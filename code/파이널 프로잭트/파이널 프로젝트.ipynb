{
 "cells": [
  {
   "cell_type": "markdown",
   "metadata": {},
   "source": [
    "# 데이터 불러오는 코드"
   ]
  },
  {
   "cell_type": "code",
   "execution_count": 2,
   "metadata": {},
   "outputs": [],
   "source": [
    "# import requests\n",
    "# import xml\n",
    "# import pandas as pd\n",
    "# from bs4 import BeautifulSoup as BS\n",
    "# import pprint\n",
    "\n",
    "# # url 생성\n",
    "# base_url = 'http://apis.data.go.kr/4720000/wanjulocalfoodsalemonth/getSaleMonthList'\n",
    "# my_key = 'vTXdmolPuhGZjqfYVME8tsl+CC01HMdG3qnF34Ks3VEtCl0q6Y3npMm/yUGY4ZzTRlPuLTfkMDua2ullOmuYnA=='\n",
    "\n",
    "# page_no = 1\n",
    "# rows_no = 200000\n",
    "\n",
    "# lst_rows = []\n",
    "\n",
    "# # 페이지 범위 지정\n",
    "# for i in range(2019, 2022):\n",
    "#   params = {\n",
    "#     'ServiceKey' : my_key,\n",
    "#     'pageNo': page_no,\n",
    "#     'numOfRows': rows_no,\n",
    "#     'saleYear': i\n",
    "#   }\n",
    "\n",
    "#   # 서버에 응답 요청하기\n",
    "#   response = requests.get(base_url, params=params)\n",
    "#   contents = response.text\n",
    "\n",
    "#   # 데이터 파싱하기\n",
    "#   soup = BS(contents,'lxml-xml')\n",
    "#   rows = soup.findAll('list')\n",
    "\n",
    "#   # 행 단위 파싱\n",
    "#   for row in rows:\n",
    "#     dict_row = dict()\n",
    "#     # 행의 콘텐츠 파싱\n",
    "#     for rows_c in row.contents:\n",
    "#       if rows_c.name is not None:\n",
    "#         dict_row[rows_c.name] = rows_c.text\n",
    "#       else:\n",
    "#         break\n",
    "\n",
    "#     # 콘텐츠를 행 단위로 저장(dict 형식)\n",
    "#     lst_rows.append(pd.Series(dict_row))\n",
    "\n",
    "# # 파싱 데이터를 판다스 데이터프레임 형식으로 바꾸기\n",
    "# df = pd.concat(lst_rows, axis=1)\n",
    "# df = df.T\n",
    "\n",
    "\n",
    "# # 저장하기\n",
    "# df.to_csv('19-21.csv')\n",
    "# df\n",
    "\n",
    "# # 저장하기\n",
    "# df.to_csv('result.csv')\n",
    "# df"
   ]
  },
  {
   "cell_type": "markdown",
   "metadata": {},
   "source": [
    "# 머신러닝 코드"
   ]
  },
  {
   "cell_type": "markdown",
   "metadata": {},
   "source": [
    "<a> 통계 모델 기준 : 근 2년간 </a><br>\n",
    "<b> 2020년 1~12월 </b><br>\n",
    "<b> 2021년 1~12월 </b><br>\n",
    "\n",
    "<b> 월별 최다 판매 품목 통계 - Top 5가지 </b><br>\n",
    "<b> 월별 최다 수익 품목 통계 - Top 5가지 </b><br>\n",
    "\n",
    "<b> 통계 데이터 분석 및 그래프화 </b>"
   ]
  },
  {
   "cell_type": "markdown",
   "metadata": {},
   "source": [
    "## 전처리"
   ]
  },
  {
   "cell_type": "markdown",
   "metadata": {},
   "source": [
    "<a>NaN 값 있는지 확인</a>"
   ]
  },
  {
   "cell_type": "code",
   "execution_count": 9,
   "metadata": {},
   "outputs": [
    {
     "data": {
      "text/plain": [
       "saleMonth        0\n",
       "saleProduct      0\n",
       "saleQy           0\n",
       "saleStore        0\n",
       "saleUnitPrice    0\n",
       "dtype: int64"
      ]
     },
     "execution_count": 9,
     "metadata": {},
     "output_type": "execute_result"
    }
   ],
   "source": [
    "import pandas as pd\n",
    "import numpy as np\n",
    "import matplotlib.pyplot as plt\n",
    "\n",
    "df = pd.read_csv(\"./19-21.csv\")\n",
    "\n",
    "# 학습에 필요 없는 컬럼 지우기\n",
    "for i in [0,1,4,-1]:\n",
    "    df = df.drop(df.columns[i], axis=1)\n",
    "\n",
    "df.isnull().sum()\n",
    "\n",
    "# 개꿀~~ 너무맛있다 ~"
   ]
  },
  {
   "cell_type": "markdown",
   "metadata": {},
   "source": [
    "<a>월별 저장후 전처리</a>"
   ]
  },
  {
   "cell_type": "code",
   "execution_count": 10,
   "metadata": {},
   "outputs": [],
   "source": [
    "gr = df.groupby(\"saleMonth\")\n",
    "\n",
    "for i, group_data in gr:\n",
    "    f = f\"{i}_data.csv\"\n",
    "    group_data.to_csv(f,index=False)"
   ]
  },
  {
   "cell_type": "markdown",
   "metadata": {},
   "source": [
    "<a> st 리스트에 1월부터 12월까지의 데이터 프레임 저장 </a>"
   ]
  },
  {
   "cell_type": "code",
   "execution_count": 11,
   "metadata": {},
   "outputs": [],
   "source": [
    "st = []\n",
    "for i in range(1, 13):\n",
    "    st.append(pd.DataFrame(pd.read_csv(f\"./{i}_data.csv\")))\n"
   ]
  },
  {
   "cell_type": "markdown",
   "metadata": {},
   "source": [
    "<a>최다 판매, 수익 top10</a>"
   ]
  },
  {
   "cell_type": "code",
   "execution_count": null,
   "metadata": {},
   "outputs": [],
   "source": [
    "# 필요한 라이브러리 불러오기\n",
    "import pandas as pd\n",
    "import matplotlib.pyplot as plt\n",
    "from matplotlib.ticker import FuncFormatter\n",
    "from matplotlib import font_manager, rc\n",
    "\n",
    "# 한글 폰트 설정\n",
    "font_path = \"C:/Windows/Fonts/NGULIM.TTF\"  # 사용하려는 한글 폰트 파일 경로\n",
    "font_name = font_manager.FontProperties(fname=font_path).get_name()\n",
    "rc(\"font\", family=font_name)"
   ]
  },
  {
   "cell_type": "code",
   "execution_count": 42,
   "metadata": {},
   "outputs": [
    {
     "name": "stdout",
     "output_type": "stream",
     "text": [
      "\n",
      "1월\n",
      "\n",
      "\n",
      "2월\n",
      "\n",
      "\n",
      "3월\n",
      "\n",
      "\n",
      "4월\n",
      "\n",
      "\n",
      "5월\n",
      "\n",
      "\n",
      "6월\n",
      "\n",
      "\n",
      "7월\n",
      "\n",
      "\n",
      "8월\n",
      "\n",
      "\n",
      "9월\n",
      "\n",
      "\n",
      "10월\n",
      "\n",
      "\n",
      "11월\n",
      "\n",
      "\n",
      "12월\n",
      "\n",
      "120\n",
      "120\n",
      "10\n",
      "10\n"
     ]
    }
   ],
   "source": [
    "import pandas as pd\n",
    "import matplotlib.pyplot as plt\n",
    "from matplotlib.ticker import FuncFormatter\n",
    "from matplotlib import font_manager, rc\n",
    "\n",
    "# 한글 폰트 설정\n",
    "font_path = \"C:/Windows/Fonts/NGULIM.TTF\"  # 사용하려는 한글 폰트 파일 경로로 수정해주세요.\n",
    "font_name = font_manager.FontProperties(fname=font_path).get_name()\n",
    "rc(\"font\", family=font_name)\n",
    "\n",
    "all_most_sold_products_list = []\n",
    "all_most_sold_counts_list = []\n",
    "st1 = []\n",
    "st2 = []\n",
    "\n",
    "# 월별 그래프 그리기 및 최다 판매 품목과 최다 수익 품목 찾기\n",
    "for month in range(1, 13):\n",
    "    all_most_revenue_values_list = []\n",
    "    all_most_revenue_products_list = []\n",
    "\n",
    "    print(f\"\\n{month}월\\n\")\n",
    "    # 월별 데이터를 불러옵니다.\n",
    "    data_path = f\"./{month}_data.csv\"\n",
    "    monthly_data = pd.read_csv(data_path)\n",
    "\n",
    "    # 최다 판매 품목을 찾습니다.\n",
    "    product_sales_sum = monthly_data.groupby(\"saleProduct\")[\"saleQy\"].sum()\n",
    "    most_sold_products = product_sales_sum.nlargest(10)  # 판매 갯수 기준 상위 10개 품목\n",
    "    most_sold_products_names = most_sold_products.index.tolist()\n",
    "    most_sold_counts = most_sold_products.tolist()\n",
    "\n",
    "    # 최다 수익 품목을 찾습니다.\n",
    "    monthly_data[\"total_revenue\"] = monthly_data[\"saleQy\"] * \\\n",
    "        monthly_data[\"saleUnitPrice\"]\n",
    "    product_revenue_sum = monthly_data.groupby(\"saleProduct\")[\"total_revenue\"].sum()\n",
    "    most_revenue_products = product_revenue_sum.nlargest(10)  # 수익 기준 상위 10개 품목\n",
    "    most_revenue_products_names = most_revenue_products.index.tolist()\n",
    "    most_revenue_values = (most_revenue_products / 1e8).tolist()\n",
    "\n",
    "    # 월별 최다 판매 품목과 수익을 리스트에 추가합니다.\n",
    "    all_most_sold_products_list.extend(most_sold_products_names)\n",
    "    all_most_sold_counts_list.extend(most_sold_counts)\n",
    "    all_most_revenue_products_list.extend(most_revenue_products_names)\n",
    "    st1.extend(most_revenue_products_names)\n",
    "    all_most_revenue_values_list.extend(most_revenue_values)\n",
    "    st2.extend(most_revenue_values)\n",
    "\n",
    "    # 그래프 그리기\n",
    "    plt.figure(figsize=(12, 6))\n",
    "\n",
    "    # 최다 판매 품목 그래프\n",
    "    plt.subplot(1, 2, 1)\n",
    "    colors_sold = [\"dodgerblue\", \"lightseagreen\", \"darkorange\", \"mediumvioletred\", \"darkolivegreen\",\n",
    "                   \"royalblue\", \"darkorchid\", \"tomato\", \"gold\", \"cornflowerblue\"]  # 보기 편한 색상 리스트\n",
    "    plt.barh(range(len(most_sold_products), 0, -1),\n",
    "             most_sold_products.values, align=\"center\", color=colors_sold)\n",
    "    plt.yticks(range(len(most_sold_products), 0, -1), most_sold_products_names)\n",
    "    plt.xlabel(\"판매 갯수\")\n",
    "    plt.ylabel(\"품목\")\n",
    "    plt.title(f\"{month}월 최다 판매 품목\")\n",
    "\n",
    "     # 최다 수익 품목 그래프\n",
    "    plt.subplot(1, 2, 2)\n",
    "    colors_revenue = [\"deepskyblue\", \"lightcoral\", \"limegreen\", \"violet\", \"darkgreen\",\n",
    "                      \"cornflowerblue\", \"mediumorchid\", \"orangered\", \"khaki\", \"lightsteelblue\"]  # 보기 편한 색상 리스트\n",
    "\n",
    "    # 최다 수익 품목의 총 수익 값을 가져와서 억 단위로 나눕니다.\n",
    "    plt.barh(range(len(most_revenue_products_names), 0, -1),\n",
    "             most_revenue_values, align=\"center\", color=colors_revenue)\n",
    "\n",
    "    # y축 눈금의 범위를 0부터 10으로 설정합니다.\n",
    "    plt.ylim(0, 11)\n",
    "\n",
    "    # y축 레이블을 억 단위로 변경하는 함수를 정의합니다.\n",
    "    def billions_formatter(x, pos):\n",
    "        return f\"{x:.1f} 억\"\n",
    "\n",
    "    # y축 레이블을 억 단위로 변경합니다.\n",
    "    plt.gca().yaxis.set_major_formatter(FuncFormatter(billions_formatter))\n",
    "\n",
    "    plt.yticks(range(len(all_most_revenue_values_list), 0, -1),\n",
    "               all_most_revenue_products_list)\n",
    "\n",
    "    plt.xticks(range(11))\n",
    "    plt.xlabel(\"총 수익 (억)\")\n",
    "    plt.ylabel(\"품목\")\n",
    "    plt.title(f\"{month}월 최다 수익 품목\")\n",
    "\n",
    "    plt.tight_layout()\n",
    "\n",
    "    # 그래프 저장 또는 화면에 표시\n",
    "    plt.savefig(f\"{month}_sales_revenue.png\")  # 월별로 그래프를 파일로 저장하려면 이 줄을 사용하세요.\n",
    "    # plt.show()  # 월별로 그래프를 화면에 표시하려면 이 줄을 사용하세요.\n",
    "    plt.close()\n",
    "    \n",
    "print(len([m for m in range(1, 13) for i in range(10)]))\n",
    "print(len([j for i in range(12) for j in range(1,11)]))\n",
    "print(len(all_most_revenue_products_list))\n",
    "print(len(all_most_revenue_values_list))\n",
    "\n",
    "# 월별 최다 판매 품목과 판매 갯수를 데이터프레임으로 만듭니다.\n",
    "most_sold_df = pd.DataFrame({\n",
    "    \"Month\": [m for m in range(1, 13) for i in range(10)],\n",
    "    \"Rank\": [j for i in range(12) for j in range(1,11)],\n",
    "    \"Most Sold Product\": all_most_sold_products_list,\n",
    "    \"Most Sold Count\": all_most_sold_counts_list\n",
    "})\n",
    "\n",
    "\n",
    "# 월별 최다 수익 품목과 수익을 데이터프레임으로 만듭니다.\n",
    "most_revenue_df = pd.DataFrame({\n",
    "    \"Month\": [m for m in range(1, 13) for i in range(10)],\n",
    "    \"Rank\": [j for i in range(12) for j in range(1,11)],   \n",
    "    \"Most Revenue Product\": st1,\n",
    "    \"Most Revenue (억)\": st2\n",
    "})\n",
    "\n",
    "\n",
    "# 최다 판매 품목과 수익을 각각 CSV 파일로 저장합니다.\n",
    "most_sold_df.to_csv(\"월별_최다_판매_품목.csv\", index=False, encoding=\"utf-8\")\n",
    "most_revenue_df.to_csv(\"월별_최다_수익_품목.csv\", index=False, encoding=\"utf-8\")\n"
   ]
  }
 ],
 "metadata": {
  "kernelspec": {
   "display_name": "base",
   "language": "python",
   "name": "python3"
  },
  "language_info": {
   "codemirror_mode": {
    "name": "ipython",
    "version": 3
   },
   "file_extension": ".py",
   "mimetype": "text/x-python",
   "name": "python",
   "nbconvert_exporter": "python",
   "pygments_lexer": "ipython3",
   "version": "3.10.9"
  },
  "orig_nbformat": 4
 },
 "nbformat": 4,
 "nbformat_minor": 2
}
