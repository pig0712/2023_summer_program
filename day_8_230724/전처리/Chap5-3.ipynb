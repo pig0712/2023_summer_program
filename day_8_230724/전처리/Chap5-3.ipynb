{
 "cells": [
  {
   "cell_type": "markdown",
   "metadata": {},
   "source": [
    "### 5-3．딥러닝을 위한 데이터의 준비\n",
    "#### 데이터 세트의 작성"
   ]
  },
  {
   "cell_type": "code",
   "execution_count": 1,
   "metadata": {},
   "outputs": [
    {
     "name": "stdout",
     "output_type": "stream",
     "text": [
      "Requirement already satisfied: opencv-python in /srv/conda/lib/python3.6/site-packages (4.0.0.21)\n",
      "Requirement already satisfied: numpy>=1.11.3 in /srv/conda/lib/python3.6/site-packages (from opencv-python) (1.15.2)\n"
     ]
    }
   ],
   "source": [
    "# OpenCV의 인스톨\n",
    "!pip install opencv-python"
   ]
  },
  {
   "cell_type": "code",
   "execution_count": 1,
   "metadata": {},
   "outputs": [],
   "source": [
    "import os\n",
    "import cv2\n",
    "import numpy as np\n",
    "\n",
    "# 이미지 폴더의 지정\n",
    "dirs = ['ants', 'bees']\n",
    "\n",
    "# 이미지의 픽셀값과 레이블을 보존하기 위한 리스트를 생성\n",
    "pixels = [] # 설명변수\n",
    "labels = [] # 목적변수\n",
    "\n",
    "#  폴더의 파일을 하나씩 읽어들여 처리한 후에 리스트에 보존\n",
    "for i, d in enumerate(dirs):\n",
    "    # 파일명을 취득\n",
    "    files = os.listdir('./data/' + d)\n",
    "    \n",
    "    for f in files:\n",
    "        # 이미지를 그레이 스케일로 리드\n",
    "        img = cv2.imread('./data/' + d + '/' + f, 0)\n",
    "        # 이미지를 리사이즈\n",
    "        img = cv2.resize(img, (128, 128))\n",
    "        # 픽셀값을 보존\n",
    "        img = np.array(img).flatten().tolist()\n",
    "        pixels.append(img)\n",
    "        \n",
    "        # 이미지의 레이블을 리스트에 보존 \n",
    "        labels.append(i)"
   ]
  },
  {
   "cell_type": "code",
   "execution_count": 3,
   "metadata": {},
   "outputs": [
    {
     "name": "stdout",
     "output_type": "stream",
     "text": [
      "(128, 128, 1)\n",
      "0\n"
     ]
    }
   ],
   "source": [
    "# Numpy배열로 변화하고 2차원 배열로 리사이즈\n",
    "pixels = np.array(pixels)/255\n",
    "pixels = pixels.reshape([-1, 128, 128, 1])\n",
    "labels = np.array(labels)\n",
    "\n",
    "# 첫번째 이미지의 데이터 사이즈를 확인\n",
    "print(pixels[0].shape)\n",
    "# 첫번째 이미지의 레이블을 확인\n",
    "print(labels[0])"
   ]
  },
  {
   "cell_type": "code",
   "execution_count": 4,
   "metadata": {},
   "outputs": [
    {
     "name": "stdout",
     "output_type": "stream",
     "text": [
      "125\n",
      "32\n"
     ]
    }
   ],
   "source": [
    "from sklearn import model_selection\n",
    "\n",
    "# 데이터 세트를 훈련데이터와 테스트 데이터로 분할\n",
    "trainX, testX, trainY, testY = model_selection.train_test_split(pixels, labels, test_size=0.2)\n",
    "\n",
    "# 훈련데이터와 테스트 데이터의 사이즈 확인\n",
    "print(len(trainY))\n",
    "print(len(testY))"
   ]
  },
  {
   "cell_type": "markdown",
   "metadata": {},
   "source": [
    "##### === 모델의 작성은 여기서부터 ======================"
   ]
  },
  {
   "cell_type": "code",
   "execution_count": 5,
   "metadata": {},
   "outputs": [
    {
     "name": "stdout",
     "output_type": "stream",
     "text": [
      "Requirement already satisfied: keras in /srv/conda/lib/python3.6/site-packages (2.2.4)\n",
      "Requirement already satisfied: keras-preprocessing>=1.0.5 in /srv/conda/lib/python3.6/site-packages (from keras) (1.0.9)\n",
      "Requirement already satisfied: keras-applications>=1.0.6 in /srv/conda/lib/python3.6/site-packages (from keras) (1.0.7)\n",
      "Requirement already satisfied: scipy>=0.14 in /srv/conda/lib/python3.6/site-packages (from keras) (1.1.0)\n",
      "Requirement already satisfied: h5py in /srv/conda/lib/python3.6/site-packages (from keras) (2.8.0)\n",
      "Requirement already satisfied: numpy>=1.9.1 in /srv/conda/lib/python3.6/site-packages (from keras) (1.15.2)\n",
      "Requirement already satisfied: pyyaml in /srv/conda/lib/python3.6/site-packages (from keras) (3.13)\n",
      "Requirement already satisfied: six>=1.9.0 in /srv/conda/lib/python3.6/site-packages (from keras) (1.12.0)\n"
     ]
    }
   ],
   "source": [
    "!pip install keras"
   ]
  },
  {
   "cell_type": "code",
   "execution_count": 5,
   "metadata": {},
   "outputs": [
    {
     "name": "stdout",
     "output_type": "stream",
     "text": [
      "Model: \"sequential\"\n",
      "_________________________________________________________________\n",
      " Layer (type)                Output Shape              Param #   \n",
      "=================================================================\n",
      " conv2d (Conv2D)             (None, 124, 124, 16)      416       \n",
      "                                                                 \n",
      " max_pooling2d (MaxPooling2D  (None, 62, 62, 16)       0         \n",
      " )                                                               \n",
      "                                                                 \n",
      " dropout (Dropout)           (None, 62, 62, 16)        0         \n",
      "                                                                 \n",
      " conv2d_1 (Conv2D)           (None, 58, 58, 32)        12832     \n",
      "                                                                 \n",
      " max_pooling2d_1 (MaxPooling  (None, 29, 29, 32)       0         \n",
      " 2D)                                                             \n",
      "                                                                 \n",
      " dropout_1 (Dropout)         (None, 29, 29, 32)        0         \n",
      "                                                                 \n",
      " flatten (Flatten)           (None, 26912)             0         \n",
      "                                                                 \n",
      " dense (Dense)               (None, 128)               3444864   \n",
      "                                                                 \n",
      " dense_1 (Dense)             (None, 1)                 129       \n",
      "                                                                 \n",
      "=================================================================\n",
      "Total params: 3,458,241\n",
      "Trainable params: 3,458,241\n",
      "Non-trainable params: 0\n",
      "_________________________________________________________________\n"
     ]
    }
   ],
   "source": [
    "# keras의 로드\n",
    "from keras.models import Sequential\n",
    "from keras.layers import Dense, Flatten, Dropout\n",
    "from keras.layers import Conv2D, MaxPooling2D\n",
    "\n",
    "model = Sequential()\n",
    "# 첫번째 컨벌루션층과 풀링층\n",
    "model.add(Conv2D(16, (5, 5), activation='relu', input_shape=(128, 128, 1)))\n",
    "model.add(MaxPooling2D((2, 2)))\n",
    "model.add(Dropout(0.5))\n",
    "# 두번째 컨벌루션층과 풀링층\n",
    "model.add(Conv2D(32, (5, 5), activation='relu'))\n",
    "model.add(MaxPooling2D((2, 2)))\n",
    "model.add(Dropout(0.5))\n",
    "# 전 결합층\n",
    "model.add(Flatten())\n",
    "model.add(Dense(128, activation='relu'))\n",
    "# 출력층\n",
    "model.add(Dense(1, activation='sigmoid'))\n",
    "\n",
    "# 작성한 네트워크의 확인\n",
    "model.summary()"
   ]
  },
  {
   "cell_type": "code",
   "execution_count": 6,
   "metadata": {},
   "outputs": [
    {
     "name": "stdout",
     "output_type": "stream",
     "text": [
      "Epoch 1/20\n",
      "2/2 [==============================] - 1s 322ms/step - loss: 0.6933 - accuracy: 0.4640 - val_loss: 0.6932 - val_accuracy: 0.4688\n",
      "Epoch 2/20\n",
      "2/2 [==============================] - 0s 194ms/step - loss: 0.6931 - accuracy: 0.5120 - val_loss: 0.6932 - val_accuracy: 0.4688\n",
      "Epoch 3/20\n",
      "2/2 [==============================] - 0s 217ms/step - loss: 0.6930 - accuracy: 0.5360 - val_loss: 0.6933 - val_accuracy: 0.4688\n",
      "Epoch 4/20\n",
      "2/2 [==============================] - 0s 194ms/step - loss: 0.6930 - accuracy: 0.5360 - val_loss: 0.6933 - val_accuracy: 0.4688\n",
      "Epoch 5/20\n",
      "2/2 [==============================] - 0s 190ms/step - loss: 0.6929 - accuracy: 0.5360 - val_loss: 0.6934 - val_accuracy: 0.4688\n",
      "Epoch 6/20\n",
      "2/2 [==============================] - 0s 225ms/step - loss: 0.6929 - accuracy: 0.5360 - val_loss: 0.6934 - val_accuracy: 0.4688\n",
      "Epoch 7/20\n",
      "2/2 [==============================] - 0s 189ms/step - loss: 0.6929 - accuracy: 0.5360 - val_loss: 0.6935 - val_accuracy: 0.4688\n",
      "Epoch 8/20\n",
      "2/2 [==============================] - 0s 190ms/step - loss: 0.6928 - accuracy: 0.5360 - val_loss: 0.6935 - val_accuracy: 0.4688\n",
      "Epoch 9/20\n",
      "2/2 [==============================] - 0s 199ms/step - loss: 0.6928 - accuracy: 0.5360 - val_loss: 0.6935 - val_accuracy: 0.4688\n",
      "Epoch 10/20\n",
      "2/2 [==============================] - 0s 193ms/step - loss: 0.6928 - accuracy: 0.5360 - val_loss: 0.6936 - val_accuracy: 0.4688\n",
      "Epoch 11/20\n",
      "2/2 [==============================] - 0s 192ms/step - loss: 0.6928 - accuracy: 0.5360 - val_loss: 0.6937 - val_accuracy: 0.4688\n",
      "Epoch 12/20\n",
      "2/2 [==============================] - 0s 195ms/step - loss: 0.6926 - accuracy: 0.5360 - val_loss: 0.6937 - val_accuracy: 0.4688\n",
      "Epoch 13/20\n",
      "2/2 [==============================] - 0s 189ms/step - loss: 0.6927 - accuracy: 0.5360 - val_loss: 0.6937 - val_accuracy: 0.4688\n",
      "Epoch 14/20\n",
      "2/2 [==============================] - 0s 219ms/step - loss: 0.6926 - accuracy: 0.5360 - val_loss: 0.6938 - val_accuracy: 0.4688\n",
      "Epoch 15/20\n",
      "2/2 [==============================] - 0s 194ms/step - loss: 0.6926 - accuracy: 0.5360 - val_loss: 0.6938 - val_accuracy: 0.4688\n",
      "Epoch 16/20\n",
      "2/2 [==============================] - 0s 194ms/step - loss: 0.6925 - accuracy: 0.5360 - val_loss: 0.6939 - val_accuracy: 0.4688\n",
      "Epoch 17/20\n",
      "2/2 [==============================] - 0s 200ms/step - loss: 0.6924 - accuracy: 0.5360 - val_loss: 0.6939 - val_accuracy: 0.4688\n",
      "Epoch 18/20\n",
      "2/2 [==============================] - 0s 188ms/step - loss: 0.6924 - accuracy: 0.5360 - val_loss: 0.6940 - val_accuracy: 0.4688\n",
      "Epoch 19/20\n",
      "2/2 [==============================] - 0s 189ms/step - loss: 0.6925 - accuracy: 0.5360 - val_loss: 0.6940 - val_accuracy: 0.4688\n",
      "Epoch 20/20\n",
      "2/2 [==============================] - 0s 195ms/step - loss: 0.6924 - accuracy: 0.5360 - val_loss: 0.6941 - val_accuracy: 0.4688\n"
     ]
    }
   ],
   "source": [
    "# 학습조건의 설정　오차함수 = 2값의 교차 엔트로피, 최적화 방법 = SGD법, 측정방법 = 모델의 정밀도\n",
    "model.compile(loss='binary_crossentropy', optimizer='sgd', metrics=['accuracy'])\n",
    "\n",
    "# 학습의 실행\n",
    "hist = model.fit(trainX, trainY, batch_size=64, verbose=1, \n",
    "                 epochs=20, validation_data=(testX, testY))"
   ]
  },
  {
   "cell_type": "code",
   "execution_count": 8,
   "metadata": {},
   "outputs": [
    {
     "data": {
      "image/png": "[encoded data removed]",
      "text/plain": [
       "<Figure size 640x480 with 1 Axes>"
      ]
     },
     "metadata": {},
     "output_type": "display_data"
    }
   ],
   "source": [
    "import matplotlib.pyplot as plt\n",
    "# 훈련데이터와 테스트 데이터의 정밀도의 이력을 플로트\n",
    "plt.plot(hist.history['accuracy'])\n",
    "plt.plot(hist.history['val_accuracy'])\n",
    "plt.ylabel('accuracy')\n",
    "plt.xlabel('epoch')\n",
    "plt.legend(['train', 'val'], loc='upper left')\n",
    "plt.show()"
   ]
  },
  {
   "cell_type": "markdown",
   "metadata": {},
   "source": [
    "##### === 모델의 작성은 여기까지 ======================"
   ]
  },
  {
   "cell_type": "code",
   "execution_count": 10,
   "metadata": {},
   "outputs": [],
   "source": [
    "import os\n",
    "import cv2\n",
    "import numpy as np\n",
    "\n",
    "# 이미지 폴더의 지정\n",
    "dirs = ['ants', 'bees']\n",
    "\n",
    "# 연습문제7\n",
    "# 이미지의 픽셀값과 레이블을 보존하기 위한 리스트를 생성\n",
    "pixels2 = [] # 설명변수\n",
    "labels2 = [] # 목적변수\n",
    "\n",
    "# 각 폴더의 파일을 하나씩 읽어들여 처리한 후에 리스트에 보존\n",
    "for i, d in enumerate(dirs):\n",
    "    # 파일명을 취득\n",
    "    files = os.listdir('./data/' + d)\n",
    "    \n",
    "    for f in files:\n",
    "        # 이미지를 그레이 스케일로 리드\n",
    "        img2 = cv2.imread('./data/' + d + '/' + f)\n",
    "        # 이미지를 리사이즈\n",
    "        img2 = cv2.resize(img2, (128, 128))\n",
    "        # 픽셀값을 정규화\n",
    "        img2 = img2/255\n",
    "        pixels2.append(img2)\n",
    "        \n",
    "        # 이미지의 레이블을 리스트에 보존\n",
    "        labels2.append(i)"
   ]
  },
  {
   "cell_type": "code",
   "execution_count": 11,
   "metadata": {},
   "outputs": [
    {
     "name": "stdout",
     "output_type": "stream",
     "text": [
      "(128, 128, 3)\n",
      "0\n",
      "125\n",
      "32\n"
     ]
    }
   ],
   "source": [
    "from sklearn import model_selection\n",
    "\n",
    "# Numpy배열로 변화하고 2차원 배열로 리사이즈\n",
    "pixels2 = np.array(pixels2).reshape([-1, 128, 128, 3])\n",
    "labels2 = np.array(labels2)\n",
    "\n",
    "# 첫번째 이미지의 데이터 사이즈와 레이블을 확인\n",
    "print(pixels2[0].shape)\n",
    "print(labels2[0])\n",
    "\n",
    "# 데이터 세트를 훈련데이터와 테스트 데이터로 분할\n",
    "trainX, testX, trainY, testY = model_selection.train_test_split(\n",
    "    pixels2, labels2, test_size=0.2)\n",
    "\n",
    "# 훈련데이터와 테스트 데이터의 사이즈 확인\n",
    "print(len(trainY))\n",
    "print(len(testY))"
   ]
  },
  {
   "cell_type": "markdown",
   "metadata": {},
   "source": [
    "##### === 모델의 작성은 여기서부터 ======================"
   ]
  },
  {
   "cell_type": "code",
   "execution_count": 12,
   "metadata": {},
   "outputs": [
    {
     "name": "stdout",
     "output_type": "stream",
     "text": [
      "Model: \"sequential_1\"\n",
      "_________________________________________________________________\n",
      " Layer (type)                Output Shape              Param #   \n",
      "=================================================================\n",
      " conv2d_2 (Conv2D)           (None, 124, 124, 16)      1216      \n",
      "                                                                 \n",
      " max_pooling2d_2 (MaxPooling  (None, 62, 62, 16)       0         \n",
      " 2D)                                                             \n",
      "                                                                 \n",
      " dropout_2 (Dropout)         (None, 62, 62, 16)        0         \n",
      "                                                                 \n",
      " conv2d_3 (Conv2D)           (None, 58, 58, 32)        12832     \n",
      "                                                                 \n",
      " max_pooling2d_3 (MaxPooling  (None, 29, 29, 32)       0         \n",
      " 2D)                                                             \n",
      "                                                                 \n",
      " dropout_3 (Dropout)         (None, 29, 29, 32)        0         \n",
      "                                                                 \n",
      " flatten_1 (Flatten)         (None, 26912)             0         \n",
      "                                                                 \n",
      " dense_2 (Dense)             (None, 128)               3444864   \n",
      "                                                                 \n",
      " dense_3 (Dense)             (None, 1)                 129       \n",
      "                                                                 \n",
      "=================================================================\n",
      "Total params: 3,459,041\n",
      "Trainable params: 3,459,041\n",
      "Non-trainable params: 0\n",
      "_________________________________________________________________\n"
     ]
    }
   ],
   "source": [
    "# keras의 로드\n",
    "from keras.models import Sequential\n",
    "from keras.layers import Dense, Flatten, Dropout\n",
    "from keras.layers import Conv2D, MaxPooling2D\n",
    "\n",
    "model = Sequential()\n",
    "# 첫번째 컨벌루션층과 풀링층\n",
    "model.add(Conv2D(16, (5, 5), activation='relu', input_shape=(128, 128, 3)))\n",
    "model.add(MaxPooling2D((2, 2)))\n",
    "model.add(Dropout(0.5))\n",
    "# 두번째 컨벌루션층과 풀링층\n",
    "model.add(Conv2D(32, (5, 5), activation='relu'))\n",
    "model.add(MaxPooling2D((2, 2)))\n",
    "model.add(Dropout(0.5))\n",
    "# 전 결합층\n",
    "model.add(Flatten())\n",
    "model.add(Dense(128, activation='relu'))\n",
    "# 출력층\n",
    "model.add(Dense(1, activation='sigmoid'))\n",
    "\n",
    "# 작성한 네트워크의 확인\n",
    "model.summary()"
   ]
  },
  {
   "cell_type": "code",
   "execution_count": 13,
   "metadata": {},
   "outputs": [
    {
     "name": "stdout",
     "output_type": "stream",
     "text": [
      "Epoch 1/20\n",
      "2/2 [==============================] - 1s 341ms/step - loss: 1.4132 - accuracy: 0.5440 - val_loss: 1.2093 - val_accuracy: 0.4375\n",
      "Epoch 2/20\n",
      "2/2 [==============================] - 0s 218ms/step - loss: 1.9676 - accuracy: 0.4880 - val_loss: 0.7098 - val_accuracy: 0.4375\n",
      "Epoch 3/20\n",
      "2/2 [==============================] - 0s 257ms/step - loss: 0.7745 - accuracy: 0.4720 - val_loss: 0.6865 - val_accuracy: 0.5625\n",
      "Epoch 4/20\n",
      "2/2 [==============================] - 0s 219ms/step - loss: 0.6826 - accuracy: 0.5120 - val_loss: 0.6843 - val_accuracy: 0.5625\n",
      "Epoch 5/20\n",
      "2/2 [==============================] - 0s 252ms/step - loss: 0.6744 - accuracy: 0.5120 - val_loss: 0.6818 - val_accuracy: 0.5625\n",
      "Epoch 6/20\n",
      "2/2 [==============================] - 0s 231ms/step - loss: 0.6691 - accuracy: 0.5120 - val_loss: 0.6796 - val_accuracy: 0.5625\n",
      "Epoch 7/20\n",
      "2/2 [==============================] - 0s 226ms/step - loss: 0.6689 - accuracy: 0.5120 - val_loss: 0.6783 - val_accuracy: 0.5625\n",
      "Epoch 8/20\n",
      "2/2 [==============================] - 0s 235ms/step - loss: 0.6650 - accuracy: 0.5120 - val_loss: 0.6790 - val_accuracy: 0.5625\n",
      "Epoch 9/20\n",
      "2/2 [==============================] - 0s 226ms/step - loss: 0.6600 - accuracy: 0.5120 - val_loss: 0.6800 - val_accuracy: 0.5625\n",
      "Epoch 10/20\n",
      "2/2 [==============================] - 0s 252ms/step - loss: 0.6582 - accuracy: 0.5120 - val_loss: 0.6793 - val_accuracy: 0.5625\n",
      "Epoch 11/20\n",
      "2/2 [==============================] - 0s 227ms/step - loss: 0.6535 - accuracy: 0.5120 - val_loss: 0.6759 - val_accuracy: 0.5625\n",
      "Epoch 12/20\n",
      "2/2 [==============================] - 0s 254ms/step - loss: 0.6484 - accuracy: 0.5120 - val_loss: 0.6673 - val_accuracy: 0.5625\n",
      "Epoch 13/20\n",
      "2/2 [==============================] - 0s 225ms/step - loss: 0.6423 - accuracy: 0.5200 - val_loss: 0.6559 - val_accuracy: 0.5938\n",
      "Epoch 14/20\n",
      "2/2 [==============================] - 0s 236ms/step - loss: 0.6330 - accuracy: 0.5280 - val_loss: 0.6480 - val_accuracy: 0.6562\n",
      "Epoch 15/20\n",
      "2/2 [==============================] - 0s 223ms/step - loss: 0.6283 - accuracy: 0.5360 - val_loss: 0.6417 - val_accuracy: 0.6875\n",
      "Epoch 16/20\n",
      "2/2 [==============================] - 0s 227ms/step - loss: 0.6227 - accuracy: 0.5440 - val_loss: 0.6351 - val_accuracy: 0.6875\n",
      "Epoch 17/20\n",
      "2/2 [==============================] - 0s 232ms/step - loss: 0.6146 - accuracy: 0.5440 - val_loss: 0.6308 - val_accuracy: 0.7500\n",
      "Epoch 18/20\n",
      "2/2 [==============================] - 0s 223ms/step - loss: 0.6102 - accuracy: 0.5520 - val_loss: 0.6228 - val_accuracy: 0.7500\n",
      "Epoch 19/20\n",
      "2/2 [==============================] - 0s 270ms/step - loss: 0.6048 - accuracy: 0.5840 - val_loss: 0.6136 - val_accuracy: 0.7500\n",
      "Epoch 20/20\n",
      "2/2 [==============================] - 0s 221ms/step - loss: 0.5971 - accuracy: 0.5840 - val_loss: 0.6019 - val_accuracy: 0.7188\n"
     ]
    }
   ],
   "source": [
    "# 학습조건의 설정　오차함수 = 2값의 교차 엔트로피, 최적화 방법 = 확률적경사하강법, 측정방법 = 모델의 정밀도\n",
    "model.compile(loss='binary_crossentropy', optimizer='adam', metrics=['accuracy'])\n",
    "\n",
    "# 학습의 실행 \n",
    "hist = model.fit(trainX, trainY, batch_size=64, verbose=1, \n",
    "                 epochs=20, validation_data=(testX, testY))"
   ]
  },
  {
   "cell_type": "code",
   "execution_count": 14,
   "metadata": {},
   "outputs": [
    {
     "data": {
      "image/png": "[encoded data removed]",
      "text/plain": [
       "<Figure size 640x480 with 1 Axes>"
      ]
     },
     "metadata": {},
     "output_type": "display_data"
    }
   ],
   "source": [
    "import matplotlib.pyplot as plt\n",
    "\n",
    "# 훈련데이터와 테스트 데이터의 오차의 이력을 플로트\n",
    "plt.plot(hist.history['loss'])\n",
    "plt.plot(hist.history['val_loss'])\n",
    "plt.ylabel('loss')\n",
    "plt.xlabel('epoch')\n",
    "plt.legend(['train', 'val'], loc='upper right')\n",
    "plt.show()"
   ]
  },
  {
   "cell_type": "code",
   "execution_count": 15,
   "metadata": {},
   "outputs": [
    {
     "data": {
      "image/png": "[encoded data removed]",
      "text/plain": [
       "<Figure size 640x480 with 1 Axes>"
      ]
     },
     "metadata": {},
     "output_type": "display_data"
    }
   ],
   "source": [
    "# 훈련데이터와 테스트 데이터의 정밀도의 이력을 플로트\n",
    "plt.plot(hist.history['accuracy'])\n",
    "plt.plot(hist.history['val_accuracy'])\n",
    "plt.ylabel('accuracy')\n",
    "plt.xlabel('epoch')\n",
    "plt.legend(['train', 'val'], loc='upper left')\n",
    "plt.show()"
   ]
  },
  {
   "cell_type": "markdown",
   "metadata": {},
   "source": [
    "##### === 모델의 작성은 여기까지 ======================"
   ]
  },
  {
   "cell_type": "markdown",
   "metadata": {},
   "source": [
    "#### 이미지 수 늘리기"
   ]
  },
  {
   "cell_type": "code",
   "execution_count": 16,
   "metadata": {},
   "outputs": [
    {
     "data": {
      "text/plain": [
       "True"
      ]
     },
     "execution_count": 16,
     "metadata": {},
     "output_type": "execute_result"
    }
   ],
   "source": [
    "# 이미지를 그레이 스케일로 리드\n",
    "img = cv2.imread('./data/ants/swiss-army-ant.jpg', 0)\n",
    "\n",
    "# 이미지의 반전\n",
    "x_img = cv2.flip(img, 0) # x축을 기준\n",
    "y_img = cv2.flip(img, 1) # y축을 기준\n",
    "xy_img = cv2.flip(img, -1) # xy축을 기준\n",
    "\n",
    "# 이미지의 출력\n",
    "cv2.imwrite('x_img.jpg', x_img)\n",
    "cv2.imwrite('y_img.jpg', y_img)\n",
    "cv2.imwrite('xy_img.jpg', xy_img)"
   ]
  },
  {
   "cell_type": "code",
   "execution_count": 17,
   "metadata": {},
   "outputs": [
    {
     "data": {
      "text/plain": [
       "True"
      ]
     },
     "execution_count": 17,
     "metadata": {},
     "output_type": "execute_result"
    }
   ],
   "source": [
    "# 이미지의 블러 처리\n",
    "blur_img = cv2.blur(img, (5,5)) # 平均値\n",
    "gau_img = cv2.GaussianBlur(img, (5,5), 0) # ガウシアン\n",
    "med_img = cv2.medianBlur(img, 5) # 中央値\n",
    "#bilf_img = cv2.bilateralFilter(img, 9, 75, 75) # バイラテラル\n",
    "\n",
    "# 이미지의 출력\n",
    "cv2.imwrite('blur_img.jpg', blur_img)\n",
    "cv2.imwrite('gau_img.jpg', gau_img)\n",
    "cv2.imwrite('med_img.jpg', med_img)\n",
    "#cv2.imwrite('bilf_img.jpg', bilf_img)"
   ]
  },
  {
   "cell_type": "code",
   "execution_count": 18,
   "metadata": {},
   "outputs": [
    {
     "data": {
      "text/plain": [
       "True"
      ]
     },
     "execution_count": 18,
     "metadata": {},
     "output_type": "execute_result"
    }
   ],
   "source": [
    "# 감마계수\n",
    "gamma = 1.5\n",
    "\n",
    "# lookup테이블의 작성\n",
    "lut = np.zeros((256,1), dtype = 'uint8')\n",
    "\n",
    "for i in range(len(lut)):\n",
    "    lut[i][0] = 255 * pow((float(i)/255), (1.0/gamma))\n",
    "\n",
    "# 보정해서 이미지를 변환\n",
    "gamma_img = cv2.LUT(img, lut)\n",
    "\n",
    "# 이미지의 출력\n",
    "cv2.imwrite('gamma_img.jpg', gamma_img)"
   ]
  },
  {
   "cell_type": "code",
   "execution_count": 19,
   "metadata": {},
   "outputs": [],
   "source": [
    "# 연습문제8\n",
    "files = os.listdir('./data/ants/')\n",
    "\n",
    "# 감마계수\n",
    "gamma = 0.6\n",
    "\n",
    "# 감마계수가 1.2에 도달 할 때까지 반복처리\n",
    "while gamma <= 1.2:\n",
    "    # lookup테이블의 작성\n",
    "    lut = np.zeros((256,1), dtype = 'uint8')\n",
    "\n",
    "    for i in range(len(lut)):\n",
    "        lut[i][0] = 255 * pow((float(i)/255), (1.0/gamma))\n",
    "\n",
    "    for f in files:\n",
    "        # 이미지를 그레이 스케일로 리드\n",
    "        img = cv2.imread('./data/ants/' + f, 0)\n",
    "        # 보정해서 이미지를 변환\n",
    "        gamma_img = cv2.LUT(img, lut)\n",
    "        # 이미지의 출력\n",
    "        cv2.imwrite('./data/dummy_ants/gamma' + str(gamma) + '_' + f, gamma_img)\n",
    "        \n",
    "    # 감마계수를 0.6씩 증가\n",
    "    gamma = gamma + 0.6"
   ]
  },
  {
   "cell_type": "markdown",
   "metadata": {},
   "source": [
    "##### === 보충지식은 여기서부터 ======================"
   ]
  },
  {
   "cell_type": "code",
   "execution_count": 20,
   "metadata": {},
   "outputs": [
    {
     "name": "stdout",
     "output_type": "stream",
     "text": [
      "32\n",
      "124\n",
      "124\n",
      "16\n"
     ]
    }
   ],
   "source": [
    "from keras import backend as K\n",
    "\n",
    "# 첫번째 컨벌루션층의 특징량을 추출\n",
    "get_output = K.function([model.layers[0].input], [model.layers[0].output])\n",
    "# 테스트 데이터에 적용\n",
    "output = get_output([testX, ])[0]\n",
    "\n",
    "# 데이터 사이즈를 확인\n",
    "print(len(output)) # 테스트 데이터의 건수\n",
    "print(len(output[0])) # 세로 사이즈\n",
    "print(len(output[0][0])) # 가로 사이즈\n",
    "print(len(output[0][0][0])) # 필터 수"
   ]
  },
  {
   "cell_type": "code",
   "execution_count": 21,
   "metadata": {},
   "outputs": [
    {
     "data": {
      "image/png": "[encoded data removed]",
      "text/plain": [
       "<Figure size 640x480 with 1 Axes>"
      ]
     },
     "metadata": {},
     "output_type": "display_data"
    }
   ],
   "source": [
    "import pandas as pd\n",
    "import matplotlib.pyplot as plt\n",
    "\n",
    "filter1 = []\n",
    "\n",
    "# 첫번째 이미지의, 첫번째 컨벌루션층의 특징량을 플로트\n",
    "for i in range(0, 1):\n",
    "    for j in range(0, 124):\n",
    "        tmp = pd.DataFrame(output[i][j])\n",
    "        tmp = tmp[0]\n",
    "        tmp = np.array(tmp).tolist()\n",
    "        filter1.append(tmp)\n",
    "        tmp = []\n",
    "\n",
    "plt.imshow(np.array(filter1), cmap='gray')\n",
    "plt.show()"
   ]
  },
  {
   "cell_type": "markdown",
   "metadata": {},
   "source": [
    "##### === 보충지식은 여기까지 ======================"
   ]
  },
  {
   "cell_type": "code",
   "execution_count": null,
   "metadata": {},
   "outputs": [],
   "source": []
  }
 ],
 "metadata": {
  "kernelspec": {
   "display_name": "Python 3 (ipykernel)",
   "language": "python",
   "name": "python3"
  },
  "language_info": {
   "codemirror_mode": {
    "name": "ipython",
    "version": 3
   },
   "file_extension": ".py",
   "mimetype": "text/x-python",
   "name": "python",
   "nbconvert_exporter": "python",
   "pygments_lexer": "ipython3",
   "version": "3.9.13"
  }
 },
 "nbformat": 4,
 "nbformat_minor": 4
}
