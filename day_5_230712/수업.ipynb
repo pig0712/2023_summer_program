{
 "cells": [
  {
   "cell_type": "code",
   "execution_count": 16,
   "id": "b395d579-85ff-422c-92e9-530a51b7f29b",
   "metadata": {},
   "outputs": [
    {
     "data": {
      "text/html": [
       "<div>\n",
       "<style scoped>\n",
       "    .dataframe tbody tr th:only-of-type {\n",
       "        vertical-align: middle;\n",
       "    }\n",
       "\n",
       "    .dataframe tbody tr th {\n",
       "        vertical-align: top;\n",
       "    }\n",
       "\n",
       "    .dataframe thead th {\n",
       "        text-align: right;\n",
       "    }\n",
       "</style>\n",
       "<table border=\"1\" class=\"dataframe\">\n",
       "  <thead>\n",
       "    <tr style=\"text-align: right;\">\n",
       "      <th></th>\n",
       "      <th>no</th>\n",
       "      <th>name</th>\n",
       "      <th>gender</th>\n",
       "      <th>kor</th>\n",
       "      <th>eng</th>\n",
       "      <th>mat</th>\n",
       "    </tr>\n",
       "  </thead>\n",
       "  <tbody>\n",
       "    <tr>\n",
       "      <th>0</th>\n",
       "      <td>1</td>\n",
       "      <td>강민경</td>\n",
       "      <td>여</td>\n",
       "      <td>98</td>\n",
       "      <td>96</td>\n",
       "      <td>76</td>\n",
       "    </tr>\n",
       "    <tr>\n",
       "      <th>1</th>\n",
       "      <td>2</td>\n",
       "      <td>강순애</td>\n",
       "      <td>여</td>\n",
       "      <td>94</td>\n",
       "      <td>79</td>\n",
       "      <td>60</td>\n",
       "    </tr>\n",
       "    <tr>\n",
       "      <th>2</th>\n",
       "      <td>3</td>\n",
       "      <td>강영하</td>\n",
       "      <td>남</td>\n",
       "      <td>55</td>\n",
       "      <td>47</td>\n",
       "      <td>93</td>\n",
       "    </tr>\n",
       "    <tr>\n",
       "      <th>3</th>\n",
       "      <td>4</td>\n",
       "      <td>강혜정</td>\n",
       "      <td>여</td>\n",
       "      <td>99</td>\n",
       "      <td>76</td>\n",
       "      <td>78</td>\n",
       "    </tr>\n",
       "    <tr>\n",
       "      <th>4</th>\n",
       "      <td>5</td>\n",
       "      <td>권명숙</td>\n",
       "      <td>여</td>\n",
       "      <td>98</td>\n",
       "      <td>73</td>\n",
       "      <td>61</td>\n",
       "    </tr>\n",
       "    <tr>\n",
       "      <th>...</th>\n",
       "      <td>...</td>\n",
       "      <td>...</td>\n",
       "      <td>...</td>\n",
       "      <td>...</td>\n",
       "      <td>...</td>\n",
       "      <td>...</td>\n",
       "    </tr>\n",
       "    <tr>\n",
       "      <th>95</th>\n",
       "      <td>96</td>\n",
       "      <td>하혜연</td>\n",
       "      <td>여</td>\n",
       "      <td>96</td>\n",
       "      <td>96</td>\n",
       "      <td>71</td>\n",
       "    </tr>\n",
       "    <tr>\n",
       "      <th>96</th>\n",
       "      <td>97</td>\n",
       "      <td>한경규</td>\n",
       "      <td>남</td>\n",
       "      <td>96</td>\n",
       "      <td>94</td>\n",
       "      <td>95</td>\n",
       "    </tr>\n",
       "    <tr>\n",
       "      <th>97</th>\n",
       "      <td>98</td>\n",
       "      <td>한수정</td>\n",
       "      <td>여</td>\n",
       "      <td>93</td>\n",
       "      <td>97</td>\n",
       "      <td>77</td>\n",
       "    </tr>\n",
       "    <tr>\n",
       "      <th>98</th>\n",
       "      <td>99</td>\n",
       "      <td>한의병</td>\n",
       "      <td>남</td>\n",
       "      <td>93</td>\n",
       "      <td>59</td>\n",
       "      <td>63</td>\n",
       "    </tr>\n",
       "    <tr>\n",
       "      <th>99</th>\n",
       "      <td>100</td>\n",
       "      <td>한정희</td>\n",
       "      <td>여</td>\n",
       "      <td>93</td>\n",
       "      <td>78</td>\n",
       "      <td>52</td>\n",
       "    </tr>\n",
       "  </tbody>\n",
       "</table>\n",
       "<p>100 rows × 6 columns</p>\n",
       "</div>"
      ],
      "text/plain": [
       "     no name gender  kor  eng  mat\n",
       "0     1  강민경      여   98   96   76\n",
       "1     2  강순애      여   94   79   60\n",
       "2     3  강영하      남   55   47   93\n",
       "3     4  강혜정      여   99   76   78\n",
       "4     5  권명숙      여   98   73   61\n",
       "..  ...  ...    ...  ...  ...  ...\n",
       "95   96  하혜연      여   96   96   71\n",
       "96   97  한경규      남   96   94   95\n",
       "97   98  한수정      여   93   97   77\n",
       "98   99  한의병      남   93   59   63\n",
       "99  100  한정희      여   93   78   52\n",
       "\n",
       "[100 rows x 6 columns]"
      ]
     },
     "execution_count": 16,
     "metadata": {},
     "output_type": "execute_result"
    }
   ],
   "source": [
    "import pandas as pd \n",
    "\n",
    "df = pd.read_csv(\"./sungjuk2.csv\", encoding=\"utf-8\")\n",
    "df.columns = [\"no\",\"name\",\"gender\",\"kor\",\"eng\",\"mat\"]\n",
    "df\n"
   ]
  },
  {
   "cell_type": "code",
   "execution_count": 17,
   "id": "948e0707-4caf-4f8a-9cd1-457b0ed0273d",
   "metadata": {},
   "outputs": [],
   "source": [
    "# df.plot()"
   ]
  },
  {
   "cell_type": "code",
   "execution_count": 18,
   "id": "059d1386",
   "metadata": {},
   "outputs": [
    {
     "data": {
      "text/plain": [
       "<Axes: >"
      ]
     },
     "execution_count": 18,
     "metadata": {},
     "output_type": "execute_result"
    },
    {
     "data": {
      "image/png": "[encoded data removed]",
      "text/plain": [
       "<Figure size 640x480 with 1 Axes>"
      ]
     },
     "metadata": {},
     "output_type": "display_data"
    }
   ],
   "source": [
    "# df[[\"kor\", \"eng\", \"mat\"]].plot()\n",
    "# df[[\"kor\", \"eng\", \"mat\"]].plot(kind=\"bar\")\n",
    "df[[\"kor\", \"eng\", \"mat\"]].plot(kind=\"box\")"
   ]
  },
  {
   "cell_type": "markdown",
   "id": "b929b444",
   "metadata": {},
   "source": [
    "누락 데이터 제거"
   ]
  },
  {
   "cell_type": "code",
   "execution_count": 20,
   "id": "b5beeecd",
   "metadata": {},
   "outputs": [
    {
     "name": "stdout",
     "output_type": "stream",
     "text": [
      "survived       0\n",
      "pclass         0\n",
      "sex            0\n",
      "age            0\n",
      "sibsp          0\n",
      "parch          0\n",
      "fare           0\n",
      "embarked       0\n",
      "class          0\n",
      "who            0\n",
      "adult_male     0\n",
      "deck           3\n",
      "embark_town    0\n",
      "alive          0\n",
      "alone          0\n",
      "dtype: int64\n"
     ]
    }
   ],
   "source": [
    "import seaborn as sns \n",
    "\n",
    "# 라이브러리 불러오기 \n",
    "df = sns.load_dataset('titanic')\n",
    "\n",
    "# 타이타닉 데이터 가져오기\n",
    "nan_deck = df['deck'].value_counts(dropna=False) \n",
    "# print(nan_deck)\n",
    "\n",
    "# isnull() 메서드로 누락 데이터 찾기\n",
    "# print(df.head().isnull())\n",
    "\n",
    "# notnull() 메서드로 누락 데이터 찾기\n",
    "# print(df.head().notnull())\n",
    "\n",
    "# isnull() 메서드로 누락 데이터 게수 구하기\n",
    "print(df.head().isnull().sum(axis=0))\n",
    "\n"
   ]
  },
  {
   "cell_type": "markdown",
   "id": "772c598d",
   "metadata": {},
   "source": [
    "누락 데이터 제거"
   ]
  },
  {
   "cell_type": "code",
   "execution_count": null,
   "id": "fb37eacb",
   "metadata": {},
   "outputs": [],
   "source": [
    "na_df = df.isnull()\n",
    "\n",
    "for col in na_df:\n",
    "    na_ct = na_df[col].values_counts() #각 열의 NaN 개수 파악\n",
    "\n",
    "    try:\n",
    "        print(col, \": \", na_ct[True])\n",
    "    except:\n",
    "        print(col, \": \", 0)"
   ]
  },
  {
   "cell_type": "markdown",
   "id": "9e465a4e",
   "metadata": {},
   "source": [
    "누락 데이터 치환"
   ]
  },
  {
   "cell_type": "code",
   "execution_count": null,
   "id": "1098852e",
   "metadata": {},
   "outputs": [],
   "source": [
    "# ade의 첫 10개 데이터 출력\n",
    "print(df[\"age\"].head(10)) "
   ]
  }
 ],
 "metadata": {
  "kernelspec": {
   "display_name": "Python 3 (ipykernel)",
   "language": "python",
   "name": "python3"
  },
  "language_info": {
   "codemirror_mode": {
    "name": "ipython",
    "version": 3
   },
   "file_extension": ".py",
   "mimetype": "text/x-python",
   "name": "python",
   "nbconvert_exporter": "python",
   "pygments_lexer": "ipython3",
   "version": "3.10.9"
  }
 },
 "nbformat": 4,
 "nbformat_minor": 5
}
