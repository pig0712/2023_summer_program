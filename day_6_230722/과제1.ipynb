{
  "cells": [
    {
      "cell_type": "code",
      "execution_count": 4,
      "metadata": {
        "colab": {
          "base_uri": "https://localhost:8080/"
        },
        "id": "QrwURAa_g7H5",
        "outputId": "0701c8a6-ed70-40df-aa75-76b966837ff7"
      },
      "outputs": [
        {
          "name": "stdout",
          "output_type": "stream",
          "text": [
            "[5 6 7 8 9] (5,)\n",
            "[1 2 3 4 5] (5,)\n"
          ]
        }
      ],
      "source": [
        "import numpy as np\n",
        "\n",
        "ar1 = np.array([5,6,7,8,9])\n",
        "print(ar1, ar1.shape)\n",
        "\n",
        "ar2 = np.array([1,2,3,4,5])\n",
        "print(ar2, ar2.shape)"
      ]
    },
    {
      "cell_type": "code",
      "execution_count": 5,
      "metadata": {
        "colab": {
          "base_uri": "https://localhost:8080/"
        },
        "id": "Cuxz-u0ChdcF",
        "outputId": "0c99d0ab-ba21-46c3-da63-96e570290524"
      },
      "outputs": [
        {
          "name": "stdout",
          "output_type": "stream",
          "text": [
            "행렬 합: [ 6  8 10 12 14]\n",
            "행렬 차: [4 4 4 4 4]\n",
            "행렬 곱: [ 5 12 21 32 45]\n",
            "행렬 나누기: [5.         3.         2.33333333 2.         1.8       ]\n"
          ]
        }
      ],
      "source": [
        "print('행렬 합:', ar1 + ar2)\n",
        "print('행렬 차:', ar1 - ar2)\n",
        "print('행렬 곱:', ar1 * ar2)\n",
        "print('행렬 나누기:', ar1 / ar2)"
      ]
    },
    {
      "cell_type": "code",
      "execution_count": 6,
      "metadata": {
        "colab": {
          "base_uri": "https://localhost:8080/"
        },
        "id": "yJTtdKTuhdjt",
        "outputId": "558dacb3-2388-48fb-b5e1-9606936716da"
      },
      "outputs": [
        {
          "name": "stdout",
          "output_type": "stream",
          "text": [
            "[[1 2 3]\n",
            " [4 5 6]\n",
            " [7 8 9]] (3, 3)\n",
            "[[3 2 1]\n",
            " [2 3 4]\n",
            " [5 4 3]] (3, 3) \n",
            "\n"
          ]
        }
      ],
      "source": [
        "lst21 = [[1,2,3], [4,5,6], [7,8,9]]\n",
        "ar21 = np.array(lst21)\n",
        "print(ar21, ar21.shape)\n",
        "\n",
        "lst22 = [[3,2,1], [2,3,4], [5,4,3]]\n",
        "ar22 = np.array(lst22)\n",
        "print(ar22, ar22.shape, '\\n')\n"
      ]
    },
    {
      "cell_type": "code",
      "execution_count": 7,
      "metadata": {
        "colab": {
          "base_uri": "https://localhost:8080/"
        },
        "id": "yYwtZ6l-xhGo",
        "outputId": "49591bb4-f90c-4c36-ab03-366193148cd9"
      },
      "outputs": [
        {
          "name": "stdout",
          "output_type": "stream",
          "text": [
            "행렬 합:\n",
            "[[ 4  4  4]\n",
            " [ 6  8 10]\n",
            " [12 12 12]]\n",
            "행렬 차:\n",
            "[[-2  0  2]\n",
            " [ 2  2  2]\n",
            " [ 2  4  6]]\n",
            "행렬 곱:\n",
            "[[ 3  4  3]\n",
            " [ 8 15 24]\n",
            " [35 32 27]]\n",
            "행렬 나누기:\n",
            "[[0.33333333 1.         3.        ]\n",
            " [2.         1.66666667 1.5       ]\n",
            " [1.4        2.         3.        ]]\n"
          ]
        }
      ],
      "source": [
        "print('행렬 합:')\n",
        "print(ar21 + ar22)\n",
        "print('행렬 차:')\n",
        "print(ar21 - ar22)\n",
        "print('행렬 곱:')\n",
        "print(ar21 * ar22)\n",
        "print('행렬 나누기:')\n",
        "print(ar21 / ar22)"
      ]
    },
    {
      "cell_type": "code",
      "execution_count": 8,
      "metadata": {
        "colab": {
          "base_uri": "https://localhost:8080/"
        },
        "id": "NPKhXdVSx05S",
        "outputId": "157db72a-146a-4213-c7b5-37000528a709"
      },
      "outputs": [
        {
          "name": "stdout",
          "output_type": "stream",
          "text": [
            "행렬 곱:\n",
            "[[22 20 18]\n",
            " [52 47 42]\n",
            " [82 74 66]] \n",
            "\n",
            "행렬 곱:\n",
            "[[22 20 18]\n",
            " [52 47 42]\n",
            " [82 74 66]]\n"
          ]
        }
      ],
      "source": [
        "print('행렬 곱:')\n",
        "print(ar21.dot(ar22), '\\n')\n",
        "\n",
        "print('행렬 곱:')\n",
        "print(np.matmul(ar21, ar22))"
      ]
    },
    {
      "cell_type": "code",
      "execution_count": 9,
      "metadata": {},
      "outputs": [
        {
          "data": {
            "text/plain": [
              "array([[ 3,  6,  9],\n",
              "       [ 6,  9, 12],\n",
              "       [ 9, 12, 15]])"
            ]
          },
          "execution_count": 9,
          "metadata": {},
          "output_type": "execute_result"
        }
      ],
      "source": [
        "ar23 = np.array([2,4,6])\n",
        "ar21 + ar23"
      ]
    },
    {
      "cell_type": "code",
      "execution_count": 38,
      "metadata": {},
      "outputs": [],
      "source": [
        "# [[3,2,1]   \n",
        "# [2,3,4]\n",
        "# [5,4,3]] \n",
        "\n",
        "# [[1,2,3]\n",
        "#  [4,5,6]\n",
        "#  [7,8,9]]\n",
        "\n",
        "\n",
        "# [18, 24, 30]\n",
        "# [42, 51, 60]\n",
        "# [42, 52, 66]\n",
        "\n",
        "\n",
        "\n",
        "\n"
      ]
    },
    {
      "cell_type": "code",
      "execution_count": 10,
      "metadata": {
        "colab": {
          "base_uri": "https://localhost:8080/"
        },
        "id": "YtR5-nbSzGV6",
        "outputId": "627205de-1715-4160-c34e-93e25efdade7"
      },
      "outputs": [
        {
          "name": "stdout",
          "output_type": "stream",
          "text": [
            "[[1 2 3 4]\n",
            " [5 6 7 8]] \n",
            "\n",
            "[[1 2]\n",
            " [3 4]\n",
            " [5 6]\n",
            " [7 8]] \n",
            "\n",
            "[[1 2 3 4]\n",
            " [5 6 7 8]]\n"
          ]
        }
      ],
      "source": [
        "lst31 = [[1,2,3,4], [5,6,7,8]]\n",
        "ar31 = np.array(lst31)\n",
        "ar32 = ar31.reshape(4,2)\n",
        "print(ar31, '\\n')\n",
        "print(ar32, '\\n')\n",
        "ar32.shape = (2,4)\n",
        "print(ar32)"
      ]
    },
    {
      "cell_type": "code",
      "execution_count": 11,
      "metadata": {
        "colab": {
          "base_uri": "https://localhost:8080/"
        },
        "id": "OsNG1pHszjNM",
        "outputId": "3ed63c47-6e96-481d-a7e9-cc41f0c1aecd"
      },
      "outputs": [
        {
          "name": "stdout",
          "output_type": "stream",
          "text": [
            "[0, 1, 2, 3, 4, 5, 6, 7, 8, 9]\n",
            "[0, 2, 4, 6, 8] \n",
            "\n",
            "[0 3 6 9]\n",
            "[0 3 6 9] \n",
            "\n"
          ]
        }
      ],
      "source": [
        "lst41 = list(range(10))\n",
        "lst42 = list(range(0,10,2))\n",
        "print(lst41)\n",
        "print(lst42, '\\n')\n",
        "\n",
        "ar41 = np.array(range(0, 10, 3))\n",
        "ar42 = np.arange(0,10,3)\n",
        "print(ar41)\n",
        "print(ar42, '\\n')"
      ]
    },
    {
      "cell_type": "code",
      "execution_count": 12,
      "metadata": {
        "colab": {
          "base_uri": "https://localhost:8080/"
        },
        "id": "3GP_V2Kx0B1N",
        "outputId": "161c4b8f-a4cd-450a-deb0-bda22f71f699"
      },
      "outputs": [
        {
          "name": "stdout",
          "output_type": "stream",
          "text": [
            "[ 0.  2.  4.  6.  8. 10.]\n",
            "[ 100.          215.443469    464.15888336 1000.        ]\n",
            "[4.         5.0396842  6.34960421 8.        ]\n"
          ]
        }
      ],
      "source": [
        "ar43 = np.linspace(0, 10, 6)\n",
        "print(ar43)\n",
        "ar44 = np.logspace(2, 3, 4)\n",
        "print(ar44)\n",
        "ar45 = np.logspace(2, 3, num=4, base=2.0)\n",
        "print(ar45)\n"
      ]
    },
    {
      "cell_type": "code",
      "execution_count": 13,
      "metadata": {
        "colab": {
          "base_uri": "https://localhost:8080/"
        },
        "id": "BUHegRae0dlL",
        "outputId": "592137f2-5890-4ac9-d72b-5a8fdb84f00b"
      },
      "outputs": [
        {
          "name": "stdout",
          "output_type": "stream",
          "text": [
            "[[0. 0. 0. 0.]\n",
            " [0. 0. 0. 0.]\n",
            " [0. 0. 0. 0.]] \n",
            "\n",
            "[[1. 1. 1. 1.]\n",
            " [1. 1. 1. 1.]\n",
            " [1. 1. 1. 1.]] \n",
            "\n"
          ]
        }
      ],
      "source": [
        "ar51 = np.zeros((3,4))\n",
        "ar52 = np.ones((3,4))\n",
        "print(ar51, '\\n')\n",
        "print(ar52, '\\n')"
      ]
    },
    {
      "cell_type": "code",
      "execution_count": 14,
      "metadata": {
        "colab": {
          "base_uri": "https://localhost:8080/"
        },
        "id": "ikzclRnH1IkK",
        "outputId": "589cd7e4-2472-476f-b2e9-60c80055e3fe"
      },
      "outputs": [
        {
          "name": "stdout",
          "output_type": "stream",
          "text": [
            "[[1. 0. 0. 0. 0.]\n",
            " [0. 1. 0. 0. 0.]\n",
            " [0. 0. 1. 0. 0.]\n",
            " [0. 0. 0. 1. 0.]\n",
            " [0. 0. 0. 0. 1.]] \n",
            "\n",
            "[0. 0. 0.] \n",
            "\n",
            "[1. 1. 1.] \n",
            "\n"
          ]
        }
      ],
      "source": [
        "ar53 = np.eye(5)\n",
        "ar54 = np.zeros(3)\n",
        "ar55 = np.ones(3)\n",
        "\n",
        "print(ar53, '\\n')\n",
        "print(ar54, '\\n')\n",
        "print(ar55, '\\n')"
      ]
    },
    {
      "cell_type": "code",
      "execution_count": 15,
      "metadata": {
        "colab": {
          "base_uri": "https://localhost:8080/"
        },
        "id": "genk9eRY1WTb",
        "outputId": "f970123b-ef24-4b0c-ec95-aa23ab54e62f"
      },
      "outputs": [
        {
          "name": "stdout",
          "output_type": "stream",
          "text": [
            "[ 0  2  4  6  8 10 12 14 16 18 20 22 24 26 28 30 32 34 36 38 40 42 44 46\n",
            " 48 50 52 54 56 58 60 62 64 66 68 70 72 74 76 78 80 82 84 86 88 90 92 94\n",
            " 96 98] \n",
            "\n",
            "[[ 0  2  4  6  8]\n",
            " [10 12 14 16 18]\n",
            " [20 22 24 26 28]\n",
            " [30 32 34 36 38]\n",
            " [40 42 44 46 48]\n",
            " [50 52 54 56 58]\n",
            " [60 62 64 66 68]\n",
            " [70 72 74 76 78]\n",
            " [80 82 84 86 88]\n",
            " [90 92 94 96 98]] \n",
            "\n"
          ]
        }
      ],
      "source": [
        "ar11 = np.arange(0, 100, 2)\n",
        "print(ar11, '\\n')\n",
        "\n",
        "ar11.shape = (10,5)\n",
        "print(ar11, '\\n')"
      ]
    },
    {
      "cell_type": "code",
      "execution_count": 16,
      "metadata": {
        "colab": {
          "base_uri": "https://localhost:8080/"
        },
        "id": "5Km14vbB1ssp",
        "outputId": "c24f43b5-cbe6-4a85-a2db-b330b0c9f390"
      },
      "outputs": [
        {
          "name": "stdout",
          "output_type": "stream",
          "text": [
            "[30 32 34 36 38] \n",
            "\n",
            "34 \n",
            "\n",
            "[[ 0  2  4  6  8]\n",
            " [10 12 14 16 18]\n",
            " [20 22 24 26 28]] \n",
            "\n",
            "[[20 22 24 26 28]] \n",
            "\n"
          ]
        }
      ],
      "source": [
        "print(ar11[3], '\\n')\n",
        "print(ar11[3][2], '\\n')\n",
        "print(ar11[:3], '\\n')\n",
        "print(ar11[2:3:], '\\n')"
      ]
    },
    {
      "cell_type": "code",
      "execution_count": 17,
      "metadata": {
        "colab": {
          "base_uri": "https://localhost:8080/"
        },
        "id": "F8hASwDg166E",
        "outputId": "36cca8c8-7167-485c-ae92-9cf7c000237b"
      },
      "outputs": [
        {
          "name": "stdout",
          "output_type": "stream",
          "text": [
            "[4 5 6 7 8] \n",
            "\n",
            "[11 22 33 44 55] \n",
            "\n",
            "array([1, 2, 3, 4, 5]) \n",
            "\n"
          ]
        }
      ],
      "source": [
        "ar21 = np.array([1,2,3,4,5])\n",
        "ar22 = np.array([10,20,30,40,50])\n",
        "print(ar21 + 3, '\\n')\n",
        "print(ar21 + ar22, '\\n')\n",
        "print(repr(ar21), '\\n')"
      ]
    },
    {
      "cell_type": "code",
      "execution_count": 18,
      "metadata": {
        "colab": {
          "base_uri": "https://localhost:8080/"
        },
        "id": "d9rMT7WD2UPU",
        "outputId": "5a925cec-22f7-42c1-9e48-1ee1d09ea0db"
      },
      "outputs": [
        {
          "name": "stdout",
          "output_type": "stream",
          "text": [
            "[[1 2]\n",
            " [3 4]\n",
            " [5 6]] \n",
            "\n",
            "[1 4 5] \n",
            "\n",
            "[1 4 5] \n",
            "\n"
          ]
        }
      ],
      "source": [
        "ar31 = np.array([[1,2],[3,4],[5,6]])\n",
        "ar32 = ar31[[0,1,2], [0,1,0]]\n",
        "ar33 = np.array([ar31[0,0], ar31[1,1], ar31[2,0]])\n",
        "print(ar31, '\\n')\n",
        "print(ar32, '\\n')\n",
        "print(ar33, '\\n')"
      ]
    },
    {
      "cell_type": "code",
      "execution_count": 40,
      "metadata": {
        "colab": {
          "base_uri": "https://localhost:8080/"
        },
        "id": "2opAQrtH23gN",
        "outputId": "25b3dee8-19f5-4182-efdb-2a946102dd20"
      },
      "outputs": [
        {
          "name": "stdout",
          "output_type": "stream",
          "text": [
            "[[31  2]\n",
            " [ 3 34]\n",
            " [35  6]] \n",
            "\n",
            "[[ True False]\n",
            " [False  True]\n",
            " [ True  True]] \n",
            "\n",
            "[31 34 35  6] \n",
            "\n",
            "[31 34 35  6] \n",
            "\n"
          ]
        }
      ],
      "source": [
        "ar31[[0,1,2],[0,1,0]] += 10\n",
        "print(ar31, '\\n')\n",
        "\n",
        "b_idx = (ar31 > 3)\n",
        "print(b_idx, '\\n')\n",
        "print(ar31[b_idx], '\\n')\n",
        "print(ar31[ar31>3], '\\n')"
      ]
    },
    {
      "cell_type": "code",
      "execution_count": 20,
      "metadata": {
        "colab": {
          "base_uri": "https://localhost:8080/"
        },
        "id": "oLNA1ZU23Ntf",
        "outputId": "43530ba3-e462-4b79-f06c-11a29f36eb4d"
      },
      "outputs": [
        {
          "name": "stdout",
          "output_type": "stream",
          "text": [
            "int32\n",
            "float64\n"
          ]
        }
      ],
      "source": [
        "ar41 = np.array([1,2])\n",
        "ar42 = np.array([1.2, 2.3])\n",
        "print(ar41.dtype)\n",
        "print(ar42.dtype)"
      ]
    },
    {
      "cell_type": "code",
      "execution_count": 21,
      "metadata": {
        "colab": {
          "base_uri": "https://localhost:8080/"
        },
        "id": "hjaO_Ab83biz",
        "outputId": "7a460234-5849-480e-eae3-74b6a4317377"
      },
      "outputs": [
        {
          "name": "stdout",
          "output_type": "stream",
          "text": [
            "\n",
            "+ 연산과 add() 함수\n",
            "[[ 6.  8.]\n",
            " [10. 13.]]\n",
            "[[ 6.  8.]\n",
            " [10. 13.]]\n"
          ]
        }
      ],
      "source": [
        "ar11 = np.array([[1,2], [3,4]], dtype=np.float64)\n",
        "ar12 = np.array([[5,6], [7,9]], dtype=np.float64)\n",
        "print('\\n+ 연산과 add() 함수')\n",
        "print(ar11 + ar12)\n",
        "print(np.add(ar11, ar12))"
      ]
    },
    {
      "cell_type": "code",
      "execution_count": 22,
      "metadata": {
        "colab": {
          "base_uri": "https://localhost:8080/"
        },
        "id": "32V-1joF30Dr",
        "outputId": "7a8a874c-449a-412c-e3d8-5c24f6940e45"
      },
      "outputs": [
        {
          "name": "stdout",
          "output_type": "stream",
          "text": [
            "\n",
            "- 연산과 subtrack() 함수\n",
            "[[-4. -4.]\n",
            " [-4. -5.]]\n",
            "[[-4. -4.]\n",
            " [-4. -5.]]\n",
            "\n",
            "+ 연산과 multiply() 함수\n",
            "[[ 6.  8.]\n",
            " [10. 13.]]\n",
            "[[ 5. 12.]\n",
            " [21. 36.]]\n",
            "\n",
            "/ 연산과 divide() 함수\n",
            "[[0.2        0.33333333]\n",
            " [0.42857143 0.44444444]]\n",
            "[[0.2        0.33333333]\n",
            " [0.42857143 0.44444444]]\n"
          ]
        }
      ],
      "source": [
        "print('\\n- 연산과 subtrack() 함수')\n",
        "print(ar11 - ar12)\n",
        "print(np.subtract(ar11, ar12))\n",
        "print('\\n+ 연산과 multiply() 함수')\n",
        "print(ar11 + ar12)\n",
        "print(np.multiply(ar11, ar12))\n",
        "print('\\n/ 연산과 divide() 함수')\n",
        "print(ar11 / ar12)\n",
        "print(np.divide(ar11, ar12))"
      ]
    },
    {
      "cell_type": "code",
      "execution_count": 23,
      "metadata": {
        "colab": {
          "base_uri": "https://localhost:8080/"
        },
        "id": "C2WlzGsG4TDl",
        "outputId": "529b7384-5322-4122-f4b4-d19a965431c4"
      },
      "outputs": [
        {
          "name": "stdout",
          "output_type": "stream",
          "text": [
            "\n",
            "sqrt()함수\n",
            "[[1.         1.41421356]\n",
            " [1.73205081 2.        ]] \n",
            "\n"
          ]
        }
      ],
      "source": [
        "print('\\nsqrt()함수')\n",
        "print(np.sqrt(ar11), '\\n')"
      ]
    },
    {
      "cell_type": "code",
      "execution_count": 24,
      "metadata": {
        "colab": {
          "base_uri": "https://localhost:8080/"
        },
        "id": "0XrThVD54gcA",
        "outputId": "bab060c7-e268-4f87-93df-680b9f3e9ba3"
      },
      "outputs": [
        {
          "name": "stdout",
          "output_type": "stream",
          "text": [
            "\n",
            "dot()함수\n",
            "[[19. 24.]\n",
            " [43. 54.]] \n",
            "\n",
            "[[19. 24.]\n",
            " [43. 54.]] \n",
            "\n"
          ]
        }
      ],
      "source": [
        "print('\\ndot()함수')\n",
        "print(ar11.dot(ar12), '\\n')\n",
        "print(np.dot(ar11,ar12), '\\n')"
      ]
    },
    {
      "cell_type": "code",
      "execution_count": 25,
      "metadata": {
        "colab": {
          "base_uri": "https://localhost:8080/"
        },
        "id": "lq5UcgYj4zAY",
        "outputId": "56dffcc3-9487-4cfe-bfdd-8c13391f3de5"
      },
      "outputs": [
        {
          "name": "stdout",
          "output_type": "stream",
          "text": [
            "\n",
            "sum()함수\n",
            "10.0 \n",
            "\n",
            "[4. 6.] \n",
            "\n",
            "[3. 7.] \n",
            "\n",
            "\n",
            "전치행렬\n",
            "[[1. 3.]\n",
            " [2. 4.]] \n",
            "\n"
          ]
        }
      ],
      "source": [
        "print('\\nsum()함수')\n",
        "print(np.sum(ar11), '\\n')\n",
        "print(np.sum(ar11, axis=0), '\\n')\n",
        "print(np.sum(ar11, axis=1), '\\n')\n",
        "\n",
        "print('\\n전치행렬')\n",
        "print(ar11.T, '\\n')"
      ]
    },
    {
      "cell_type": "code",
      "execution_count": 26,
      "metadata": {
        "colab": {
          "base_uri": "https://localhost:8080/"
        },
        "id": "bQCV1pk65JgV",
        "outputId": "72a4fa92-ea0d-44e3-f56c-8c43684e1aa4"
      },
      "outputs": [
        {
          "name": "stdout",
          "output_type": "stream",
          "text": [
            "[[ 1  2  3]\n",
            " [ 4  5  6]\n",
            " [ 7  8  9]\n",
            " [10 11 12]] \n",
            "\n",
            "[1 0 1] \n",
            "\n",
            "[[ 2  2  4]\n",
            " [ 5  5  7]\n",
            " [ 8  8 10]\n",
            " [11 11 13]] \n",
            "\n"
          ]
        }
      ],
      "source": [
        "ar21 = np.array([[1,2,3],[4,5,6],[7,8,9],[10,11,12]])\n",
        "ar22 = np.array([1,0,1])\n",
        "ar29 = np.empty_like(ar21)\n",
        "for i in range(4):\n",
        "  ar29[i, :] = ar21[i, :] + ar22\n",
        "\n",
        "print(ar21, '\\n')\n",
        "print(ar22, '\\n')\n",
        "print(ar29, '\\n')\n"
      ]
    }
  ],
  "metadata": {
    "colab": {
      "provenance": []
    },
    "kernelspec": {
      "display_name": "Python 3",
      "name": "python3"
    },
    "language_info": {
      "codemirror_mode": {
        "name": "ipython",
        "version": 3
      },
      "file_extension": ".py",
      "mimetype": "text/x-python",
      "name": "python",
      "nbconvert_exporter": "python",
      "pygments_lexer": "ipython3",
      "version": "3.10.9"
    }
  },
  "nbformat": 4,
  "nbformat_minor": 0
}
