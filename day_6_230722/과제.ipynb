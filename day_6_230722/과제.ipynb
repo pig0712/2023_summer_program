{
 "cells": [
  {
   "cell_type": "markdown",
   "metadata": {},
   "source": [
    "## 1차원 행렬 생성"
   ]
  },
  {
   "cell_type": "code",
   "execution_count": 2,
   "metadata": {},
   "outputs": [
    {
     "name": "stdout",
     "output_type": "stream",
     "text": [
      "[5 6 7 8 9] (5,)\n",
      "[1 2 3 4 5] (5,)\n"
     ]
    }
   ],
   "source": [
    "import numpy as np\n",
    "\n",
    "ar1 = np.array([5,6,7,8,9])\n",
    "print(ar1, ar1.shape)\n",
    "\n",
    "ar2 = np.array([1,2,3,4,5])\n",
    "print(ar2, ar2.shape)"
   ]
  },
  {
   "cell_type": "markdown",
   "metadata": {},
   "source": [
    "## 1차원 행렬의 합, 차, 곱, 나누기"
   ]
  },
  {
   "cell_type": "code",
   "execution_count": 3,
   "metadata": {},
   "outputs": [
    {
     "name": "stdout",
     "output_type": "stream",
     "text": [
      "[5 6 7 8 9] (5,)\n",
      "[1 2 3 4 5] (5,) \n",
      "\n",
      "행렬 합: [ 6  8 10 12 14]\n",
      "행렬 차: [4 4 4 4 4]\n",
      "행렬 곱: [ 5 12 21 32 45]\n",
      "행렬 나누기: [5.         3.         2.33333333 2.         1.8       ]\n"
     ]
    }
   ],
   "source": [
    "import numpy as np\n",
    "\n",
    "ar1 = np.array([5,6,7,8,9])\n",
    "print(ar1, ar1.shape)\n",
    "\n",
    "ar2 = np.array([1,2,3,4,5])\n",
    "print(ar2, ar2.shape, \"\\n\")\n",
    "\n",
    "print(\"행렬 합:\", ar1 + ar2)\n",
    "print(\"행렬 차:\", ar1 - ar2)\n",
    "print(\"행렬 곱:\", ar1 * ar2)\n",
    "print(\"행렬 나누기:\", ar1 / ar2)"
   ]
  },
  {
   "cell_type": "markdown",
   "metadata": {},
   "source": [
    "## 2차원 행렬 생성 및 합, 차, 곱, 나누기, 수학의 행렬곱"
   ]
  },
  {
   "cell_type": "code",
   "execution_count": 4,
   "metadata": {},
   "outputs": [
    {
     "name": "stdout",
     "output_type": "stream",
     "text": [
      "[[1 2 3]\n",
      " [4 5 6]\n",
      " [7 8 9]] (3, 3)\n",
      "[[3 2 1]\n",
      " [2 3 4]\n",
      " [5 4 3]] (3, 3) #n\n"
     ]
    }
   ],
   "source": [
    "import numpy as np\n",
    "lst21 = [[1,2,3], [4,5,6], [7,8,9]] \n",
    "ar21= np.array(lst21) \n",
    "print(ar21, ar21.shape)\n",
    " \n",
    "lst22 = [[3,2,1], [2, 3, 4], [5,4,3]]\n",
    "ar22 = np.array(lst22)\n",
    "print (ar22, ar22. shape, \"#n\")"
   ]
  },
  {
   "cell_type": "code",
   "execution_count": 5,
   "metadata": {},
   "outputs": [
    {
     "name": "stdout",
     "output_type": "stream",
     "text": [
      "행렬 합:\n",
      "[[ 4  4  4]\n",
      " [ 6  8 10]\n",
      " [12 12 12]]\n",
      "행렬 차:\n",
      "[[-2  0  2]\n",
      " [ 2  2  2]\n",
      " [ 2  4  6]]\n",
      "행렬 곱:\n",
      "[[ 3  4  3]\n",
      " [ 8 15 24]\n",
      " [35 32 27]]\n",
      "행렬 나누기:\n",
      "[[0.33333333 1.         3.        ]\n",
      " [2.         1.66666667 1.5       ]\n",
      " [1.4        2.         3.        ]]\n"
     ]
    }
   ],
   "source": [
    "print(\"행렬 합:\")\n",
    "print(ar21 + ar22)\n",
    "print(\"행렬 차:\")\n",
    "print(ar21 - ar22)\n",
    "print(\"행렬 곱:\")\n",
    "print(ar21 * ar22)\n",
    "print(\"행렬 나누기:\")\n",
    "print(ar21 / ar22)\n"
   ]
  },
  {
   "cell_type": "code",
   "execution_count": 6,
   "metadata": {},
   "outputs": [
    {
     "name": "stdout",
     "output_type": "stream",
     "text": [
      "행렬 곱:\n",
      "[[22 20 18]\n",
      " [52 47 42]\n",
      " [82 74 66]] \n",
      "\n",
      "행렬 곱:\n",
      "[[22 20 18]\n",
      " [52 47 42]\n",
      " [82 74 66]]\n"
     ]
    }
   ],
   "source": [
    "print(\"행렬 곱:\")\n",
    "print(ar21.dot(ar22), \"\\n\")\n",
    "print(\"행렬 곱:\")\n",
    "print(np.matmul(ar21,ar22))"
   ]
  },
  {
   "cell_type": "markdown",
   "metadata": {},
   "source": [
    "## 행렬 형태 변경"
   ]
  },
  {
   "cell_type": "code",
   "execution_count": 7,
   "metadata": {},
   "outputs": [
    {
     "name": "stdout",
     "output_type": "stream",
     "text": [
      "[[1 2 3 4]\n",
      " [5 6 7 8]] \n",
      "\n",
      "[[1 2]\n",
      " [3 4]\n",
      " [5 6]\n",
      " [7 8]] \n",
      "\n",
      "[[1 2 3 4]\n",
      " [5 6 7 8]]\n"
     ]
    }
   ],
   "source": [
    "import numpy as np\n",
    "lst31 = [[1,2,3,4],[5,6,7,8]]\n",
    "ar31 = np.array(lst31)\n",
    "ar32 = ar31.reshape(4,2)\n",
    "print(ar31, \"\\n\")\n",
    "print(ar32, \"\\n\")\n",
    "ar32.shape = (2,4)\n",
    "print(ar32)"
   ]
  },
  {
   "cell_type": "markdown",
   "metadata": {},
   "source": [
    "## 리스트로 행렬 만들기"
   ]
  },
  {
   "cell_type": "code",
   "execution_count": 8,
   "metadata": {},
   "outputs": [
    {
     "name": "stdout",
     "output_type": "stream",
     "text": [
      "[0, 1, 2, 3, 4, 5, 6, 7, 8, 9]\n",
      "[0, 2, 4, 6, 8] \n",
      "\n",
      "[0 3 6 9]\n",
      "[0 3 6 9] \n",
      "\n"
     ]
    }
   ],
   "source": [
    "import numpy as np\n",
    "\n",
    "lst41 = list(range(10))\n",
    "lst42 = list(range(0,10,2))\n",
    "\n",
    "print(lst41)\n",
    "print(lst42, \"\\n\")\n",
    "\n",
    "ar41 = np.array(range(0,10,3))\n",
    "ar42 = np.arange(0,10,3)\n",
    "\n",
    "print(ar41)\n",
    "print(ar42, \"\\n\")"
   ]
  }
 ],
 "metadata": {
  "kernelspec": {
   "display_name": "base",
   "language": "python",
   "name": "python3"
  },
  "language_info": {
   "codemirror_mode": {
    "name": "ipython",
    "version": 3
   },
   "file_extension": ".py",
   "mimetype": "text/x-python",
   "name": "python",
   "nbconvert_exporter": "python",
   "pygments_lexer": "ipython3",
   "version": "3.10.9"
  },
  "orig_nbformat": 4
 },
 "nbformat": 4,
 "nbformat_minor": 2
}
