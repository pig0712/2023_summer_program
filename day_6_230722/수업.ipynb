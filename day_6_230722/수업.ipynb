{
 "cells": [
  {
   "cell_type": "code",
   "execution_count": 3,
   "metadata": {},
   "outputs": [
    {
     "name": "stdout",
     "output_type": "stream",
     "text": [
      "<class 'int'>\n"
     ]
    }
   ],
   "source": [
    "def sum(a,b):\n",
    "    c = a + b \n",
    "    return c\n",
    "\n",
    "s = sum(3,4)\n",
    "print(s)"
   ]
  },
  {
   "cell_type": "code",
   "execution_count": 2,
   "metadata": {},
   "outputs": [
    {
     "name": "stdout",
     "output_type": "stream",
     "text": [
      "7 3\n"
     ]
    }
   ],
   "source": [
    "def calc(a,b):\n",
    "    c = a + b\n",
    "    d = a - b\n",
    "    return c, d\n",
    "\n",
    "\n",
    "s, t = calc(5,2)\n",
    "print(s, t)"
   ]
  },
  {
   "cell_type": "code",
   "execution_count": 5,
   "metadata": {},
   "outputs": [
    {
     "name": "stdout",
     "output_type": "stream",
     "text": [
      "30 28 24\n"
     ]
    }
   ],
   "source": [
    "def multi(a,b,c=3,d=4):\n",
    "    k = a + b + c + d\n",
    "    return k \n",
    "\n",
    "s = multi(9,8,7,6)\n",
    "t = multi(9,8,7)\n",
    "u = multi(9,8)\n",
    "# v = multi(9) # 필수 인자 하나 없음\n",
    "\n",
    "print(s,t,u)"
   ]
  },
  {
   "cell_type": "code",
   "execution_count": null,
   "metadata": {},
   "outputs": [],
   "source": []
  }
 ],
 "metadata": {
  "kernelspec": {
   "display_name": "base",
   "language": "python",
   "name": "python3"
  },
  "language_info": {
   "codemirror_mode": {
    "name": "ipython",
    "version": 3
   },
   "file_extension": ".py",
   "mimetype": "text/x-python",
   "name": "python",
   "nbconvert_exporter": "python",
   "pygments_lexer": "ipython3",
   "version": "3.10.9"
  },
  "orig_nbformat": 4
 },
 "nbformat": 4,
 "nbformat_minor": 2
}
