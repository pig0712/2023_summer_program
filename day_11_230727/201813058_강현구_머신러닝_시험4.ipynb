{
 "cells": [
  {
   "cell_type": "markdown",
   "id": "cf8f6f75",
   "metadata": {},
   "source": [
    "# 4. 비지도 학습"
   ]
  },
  {
   "attachments": {
    "image.png": {
     "image/png": "[encoded data removed]"
    }
   },
   "cell_type": "markdown",
   "id": "140f5dc9",
   "metadata": {},
   "source": [
    "![image.png](attachment:image.png)"
   ]
  },
  {
   "cell_type": "code",
   "execution_count": 18,
   "id": "a6083bfd",
   "metadata": {},
   "outputs": [],
   "source": [
    "import numpy as np\n",
    "import warnings\n",
    "warnings.filterwarnings('ignore')\n"
   ]
  },
  {
   "cell_type": "code",
   "execution_count": 5,
   "id": "54ba65eb",
   "metadata": {},
   "outputs": [],
   "source": [
    "p_1 = np.array(\n",
    "    [1,4,3,4,5,2,7,1,5,5,4,6,3,5,4])\n",
    "\n",
    "p_2 = np.array(\n",
    "    [2,5,2,6,5,3,6,5,4,3,6,2,5,6,1])"
   ]
  },
  {
   "cell_type": "code",
   "execution_count": 7,
   "id": "0118b1c8",
   "metadata": {},
   "outputs": [],
   "source": [
    "data =[[l,w]for l,w in zip(p_1 ,p_2)]"
   ]
  },
  {
   "cell_type": "code",
   "execution_count": 8,
   "id": "44081091",
   "metadata": {},
   "outputs": [
    {
     "name": "stdout",
     "output_type": "stream",
     "text": [
      "[[1, 2], [4, 5], [3, 2], [4, 6], [5, 5], [2, 3], [7, 6], [1, 5], [5, 4], [5, 3], [4, 6], [6, 2], [3, 5], [5, 6], [4, 1]]\n"
     ]
    }
   ],
   "source": [
    "print(data)"
   ]
  },
  {
   "cell_type": "code",
   "execution_count": 10,
   "id": "de7764a4",
   "metadata": {
    "scrolled": true
   },
   "outputs": [
    {
     "data": {
      "image/png": "[encoded data removed]",
      "text/plain": [
       "<Figure size 432x288 with 1 Axes>"
      ]
     },
     "metadata": {
      "needs_background": "light"
     },
     "output_type": "display_data"
    }
   ],
   "source": [
    "import matplotlib.pyplot as plt\n",
    "plt.scatter(p_1, p_2)\n",
    "plt.xlabel('p1')\n",
    "plt.ylabel('p2')\n",
    "plt.show()"
   ]
  },
  {
   "cell_type": "code",
   "execution_count": 12,
   "id": "d66dc0d3",
   "metadata": {},
   "outputs": [],
   "source": [
    "from sklearn.neighbors import KNeighborsClassifier"
   ]
  },
  {
   "cell_type": "code",
   "execution_count": 13,
   "id": "0f063bc0",
   "metadata": {},
   "outputs": [],
   "source": [
    "kn49=KNeighborsClassifier(n_neighbors=49) # 분류기준값 49로 설정"
   ]
  },
  {
   "cell_type": "code",
   "execution_count": 22,
   "id": "0a32f7e6",
   "metadata": {},
   "outputs": [],
   "source": [
    "p_1 = p_1.reshape(-1, 1)\n",
    "p_2 = p_2.reshape(-1, 1)\n"
   ]
  },
  {
   "cell_type": "code",
   "execution_count": 23,
   "id": "34d647ca",
   "metadata": {},
   "outputs": [
    {
     "data": {
      "text/plain": [
       "KNeighborsClassifier(n_neighbors=49)"
      ]
     },
     "execution_count": 23,
     "metadata": {},
     "output_type": "execute_result"
    }
   ],
   "source": [
    "kn49.fit(p_1,p_2)"
   ]
  },
  {
   "cell_type": "code",
   "execution_count": null,
   "id": "e02a34e7",
   "metadata": {},
   "outputs": [],
   "source": []
  },
  {
   "cell_type": "code",
   "execution_count": null,
   "id": "8c677459",
   "metadata": {},
   "outputs": [],
   "source": []
  },
  {
   "cell_type": "code",
   "execution_count": null,
   "id": "27960b53",
   "metadata": {},
   "outputs": [],
   "source": []
  }
 ],
 "metadata": {
  "kernelspec": {
   "display_name": "Python 3 (ipykernel)",
   "language": "python",
   "name": "python3"
  },
  "language_info": {
   "codemirror_mode": {
    "name": "ipython",
    "version": 3
   },
   "file_extension": ".py",
   "mimetype": "text/x-python",
   "name": "python",
   "nbconvert_exporter": "python",
   "pygments_lexer": "ipython3",
   "version": "3.9.12"
  }
 },
 "nbformat": 4,
 "nbformat_minor": 5
}
