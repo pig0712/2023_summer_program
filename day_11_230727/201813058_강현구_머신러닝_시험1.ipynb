{
 "cells": [
  {
   "cell_type": "code",
   "execution_count": 5,
   "id": "930682dc",
   "metadata": {},
   "outputs": [],
   "source": [
    "from sympy import *\n",
    "import sympy as s\n",
    "import numpy as np\n",
    "import matplotlib.pyplot as plt\n",
    "import math as m\n",
    "import pandas as pd\n",
    "import seaborn as sns\n",
    "import scipy.stats as stats\n",
    "from matplotlib.pyplot import style\n",
    "\n",
    "style.use('default')"
   ]
  },
  {
   "cell_type": "markdown",
   "id": "2c0efb0a",
   "metadata": {},
   "source": [
    "# 1. 최소값 구하기"
   ]
  },
  {
   "cell_type": "markdown",
   "id": "5df99321",
   "metadata": {},
   "source": [
    "- $f(x)=2*sin(x)+0.5*x$<br><br>\n",
    "조건 : $-1 <= x <= 13$"
   ]
  },
  {
   "attachments": {
    "image.png": {
     "image/png": "[encoded data removed]"
    }
   },
   "cell_type": "markdown",
   "id": "e0dd0cb7",
   "metadata": {},
   "source": [
    "![image.png](attachment:image.png)"
   ]
  },
  {
   "cell_type": "markdown",
   "id": "62151ae9",
   "metadata": {},
   "source": [
    "## 미분법 이용"
   ]
  },
  {
   "cell_type": "code",
   "execution_count": 7,
   "id": "66b22e6b",
   "metadata": {},
   "outputs": [
    {
     "name": "stdout",
     "output_type": "stream",
     "text": [
      "f(x)는 x가 [-1.]일 때 최솟값 -2.182941969615793을 가진다\n"
     ]
    }
   ],
   "source": [
    "def f(x):\n",
    "    return 2*np.sin(x)+0.5*x\n",
    "\n",
    "x0 = np.arange(-1, 13, 0.1) # x범위지정\n",
    "y0 = f(x0) # y는 f(x)에 x를 대입한 결괏값\n",
    "\n",
    "# 원함수의 최솟값 min(y0)\n",
    "# np.where 함수를 이용하여 y가 최솟값이 되는 x의 위치를 찾고, \n",
    "# 그 인덱스를 x0 array에 대입하여 값을 가져옴\n",
    "print(f'f(x)는 x가 {x0[np.where(y0 == min(y0))]}일 때 최솟값 {min(y0)}을 가진다')"
   ]
  },
  {
   "cell_type": "code",
   "execution_count": null,
   "id": "15f692e5",
   "metadata": {},
   "outputs": [],
   "source": []
  },
  {
   "cell_type": "markdown",
   "id": "4eb0653c",
   "metadata": {},
   "source": [
    "## 뉴톤법 이용\n",
    "조건 : 초기값 $x=13$"
   ]
  },
  {
   "cell_type": "code",
   "execution_count": 15,
   "id": "69aeecc3",
   "metadata": {},
   "outputs": [],
   "source": [
    "import sympy as sp"
   ]
  },
  {
   "cell_type": "code",
   "execution_count": 16,
   "id": "9013156e",
   "metadata": {},
   "outputs": [
    {
     "name": "stdout",
     "output_type": "stream",
     "text": [
      "반복 횟수: 19\n",
      "근사해 x = -1.7841324780697434\n",
      "근사해일 때 최솟값 : -2.84672627816063\n"
     ]
    }
   ],
   "source": [
    "x = symbols('x')\n",
    "\n",
    "f_x = 2*sp.sin(x)+0.5*x # 원함수\n",
    "fp_x = diff(f_x) \n",
    "\n",
    "x_init = 13 # 초기값 지정\n",
    "Tol = 0.001 # 허용오차\n",
    "\n",
    "x_t = x_init\n",
    "i = 0\n",
    "\n",
    "while True: # 오차값이 허용오차 이내일때까지 반복한다\n",
    "    i = i + 1\n",
    "    \n",
    "    # x, f(x)를 지나는 접선의 x절편을 구한다.\n",
    "    # 함수이름.subs(a, b)는 a에 b를 대입하겠다는 뜻이다\n",
    "    x_tp1 = float(x_t) - float(f_x.subs(x,x_t))/float(fp_x.subs(x,x_t))\n",
    "    \n",
    "    # x값을 접선의 x절편으로 변경한다.\n",
    "    error = f_x.subs(x, x_tp1) \n",
    "\n",
    "    if error <= Tol: # 오차값이 0이라고 해도 될 정도로 작은 값이라면 종료한다(허용오차이내)\n",
    "        break\n",
    "    x_t = x_tp1\n",
    "\n",
    "print(f'반복 횟수: {i}')\n",
    "print(f'근사해 x = {x_tp1}')\n",
    "print(f'근사해일 때 최솟값 : {f_x.subs(x,x_tp1)}')"
   ]
  },
  {
   "cell_type": "code",
   "execution_count": null,
   "id": "049bc26f",
   "metadata": {},
   "outputs": [],
   "source": []
  },
  {
   "cell_type": "code",
   "execution_count": null,
   "id": "1fe1e171",
   "metadata": {},
   "outputs": [],
   "source": []
  },
  {
   "cell_type": "markdown",
   "id": "f94be98e",
   "metadata": {},
   "source": [
    "## 경사하강법 이용\n",
    "- 조건 : 초기값 $x=13$\n",
    "- 학습율 = 최소값을 찾을 수 있도록 조절"
   ]
  },
  {
   "cell_type": "code",
   "execution_count": 6,
   "id": "6d9a96d4",
   "metadata": {},
   "outputs": [],
   "source": [
    "def f(x):\n",
    "    return  2*np.sin(x)+0.5*x"
   ]
  },
  {
   "cell_type": "code",
   "execution_count": 7,
   "id": "08eadc15",
   "metadata": {},
   "outputs": [],
   "source": [
    "x0 = 13 # 초기값 지정\n",
    "\n",
    "learning_rate = 0.1 # 학습률 지정 ( 단계마다 x를 이동시켜줄 거리 )\n",
    "max_iter = 20 # 알고리즘 반복 횟수 지정"
   ]
  },
  {
   "cell_type": "code",
   "execution_count": 9,
   "id": "9c4537bd",
   "metadata": {},
   "outputs": [
    {
     "name": "stdout",
     "output_type": "stream",
     "text": [
      "step \t x \t \t f(x)\n",
      "00 \t 13.00000 \t 7.34033\n",
      "\n",
      "01 \t 12.26597 \t 5.54117\n",
      "\n",
      "02 \t 11.71185 \t 4.34741\n",
      "\n",
      "03 \t 11.27711 \t 3.71729\n",
      "\n",
      "04 \t 10.90538 \t 3.46082\n",
      "\n",
      "05 \t 10.55930 \t 3.46699\n",
      "\n",
      "06 \t 10.21260 \t 3.68866\n",
      "\n",
      "07 \t 9.84373 \t 4.10826\n",
      "\n",
      "08 \t 9.43291 \t 4.70020\n",
      "\n",
      "09 \t 8.96289 \t 5.37273\n",
      "\n",
      "10 \t 8.42561 \t 5.89484\n",
      "\n",
      "11 \t 7.83613 \t 5.91775\n",
      "\n",
      "12 \t 7.24436 \t 5.26190\n",
      "\n",
      "13 \t 6.71816 \t 4.20187\n",
      "\n",
      "14 \t 6.29798 \t 3.17857\n",
      "\n",
      "15 \t 5.98012 \t 2.39317\n",
      "\n",
      "16 \t 5.74080 \t 1.83805\n",
      "\n",
      "17 \t 5.55700 \t 1.45045\n",
      "\n",
      "18 \t 5.41195 \t 1.17573\n",
      "\n",
      "19 \t 5.29438 \t 0.97645\n",
      "\n",
      "20 \t 5.19674 \t 0.82841\n"
     ]
    }
   ],
   "source": [
    "# 알고리즘 구현 및 실행\n",
    "# 학습률이 작아 그래프의 굴곡을 벗어나지 못한다.\n",
    " \n",
    "print(\"step \\t x \\t \\t f(x)\")\n",
    "print(\"{:02d} \\t {:6.5f} \\t {:6.5f}\".format(0, x0, f(x0)))\n",
    "\n",
    "for i in range(max_iter):\n",
    "    x1 = x0 - learning_rate * f(x0)\n",
    "    x0 = x1\n",
    "    print()\n",
    "    print(\"{:02d} \\t {:6.5f} \\t {:6.5f}\".format(i+1, x0, f(x0)))"
   ]
  },
  {
   "cell_type": "code",
   "execution_count": null,
   "id": "f91d983f",
   "metadata": {},
   "outputs": [],
   "source": []
  },
  {
   "cell_type": "code",
   "execution_count": null,
   "id": "25c6826f",
   "metadata": {},
   "outputs": [],
   "source": []
  },
  {
   "cell_type": "code",
   "execution_count": null,
   "id": "f003221f",
   "metadata": {},
   "outputs": [],
   "source": []
  },
  {
   "cell_type": "code",
   "execution_count": null,
   "id": "f2602507",
   "metadata": {},
   "outputs": [],
   "source": []
  },
  {
   "cell_type": "code",
   "execution_count": null,
   "id": "e79f7213",
   "metadata": {},
   "outputs": [],
   "source": []
  },
  {
   "cell_type": "code",
   "execution_count": null,
   "id": "85d57d28",
   "metadata": {},
   "outputs": [],
   "source": []
  }
 ],
 "metadata": {
  "kernelspec": {
   "display_name": "Python 3 (ipykernel)",
   "language": "python",
   "name": "python3"
  },
  "language_info": {
   "codemirror_mode": {
    "name": "ipython",
    "version": 3
   },
   "file_extension": ".py",
   "mimetype": "text/x-python",
   "name": "python",
   "nbconvert_exporter": "python",
   "pygments_lexer": "ipython3",
   "version": "3.9.12"
  }
 },
 "nbformat": 4,
 "nbformat_minor": 5
}
