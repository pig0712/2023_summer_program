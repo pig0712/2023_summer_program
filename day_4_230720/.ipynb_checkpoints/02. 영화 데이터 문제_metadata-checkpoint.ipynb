{
 "cells": [
  {
   "cell_type": "markdown",
   "id": "eb4f5d5c",
   "metadata": {},
   "source": [
    "# movies_metadata를 이용하여 pandas 활용 과제"
   ]
  },
  {
   "cell_type": "code",
   "execution_count": 3,
   "id": "0c77430b",
   "metadata": {},
   "outputs": [],
   "source": [
    "import pandas as pd"
   ]
  },
  {
   "cell_type": "code",
   "execution_count": 5,
   "id": "ac5fe284",
   "metadata": {
    "collapsed": true
   },
   "outputs": [
    {
     "name": "stderr",
     "output_type": "stream",
     "text": [
      "C:\\Users\\admin\\AppData\\Local\\Temp\\ipykernel_30992\\2936875507.py:1: DtypeWarning: Columns (10) have mixed types. Specify dtype option on import or set low_memory=False.\n",
      "  df=pd.read_csv(\"./movies_metadata.csv\")\n"
     ]
    }
   ],
   "source": [
    "df=pd.read_csv(\"./movies_metadata.csv\")"
   ]
  },
  {
   "cell_type": "markdown",
   "id": "4d2a6df1",
   "metadata": {},
   "source": [
    "# 1. 가장 런타임 긴 시간 영화 1편을 찾아주세요"
   ]
  },
  {
   "cell_type": "code",
   "execution_count": 14,
   "id": "0fb01b8d",
   "metadata": {
    "scrolled": true
   },
   "outputs": [
    {
     "name": "stdout",
     "output_type": "stream",
     "text": [
      "상영 시간이 가장 긴 영화 : Centennial\n"
     ]
    }
   ],
   "source": []
  },
  {
   "cell_type": "markdown",
   "id": "5ec46395",
   "metadata": {},
   "source": [
    "# 2. 2016년 1월부터 3월까지 나왔던 시리즈 영화를 찾아주세요"
   ]
  },
  {
   "cell_type": "code",
   "execution_count": 16,
   "id": "7f7a0d21",
   "metadata": {},
   "outputs": [
    {
     "data": {
      "text/plain": [
       "26564                                            Deadpool\n",
       "30400                                           Allegiant\n",
       "31072                  Batman v Superman: Dawn of Justice\n",
       "35220                                         Zoolander 2\n",
       "35387                                     Kung Fu Panda 3\n",
       "35976                                        Ride Along 2\n",
       "35983                                   Batman: Bad Blood\n",
       "36224                                Jarhead 3: The Siege\n",
       "36243    Crouching Tiger, Hidden Dragon: Sword of Destiny\n",
       "36252                                   London Has Fallen\n",
       "36544                                  Pitbull. New Order\n",
       "37570                    Monster High Great Scarrier Reef\n",
       "37638                               Pee-wee's Big Holiday\n",
       "37702                          My Big Fat Greek Wedding 2\n",
       "37780                                     Elections Day 2\n",
       "37795                      Justice League vs. Teen Titans\n",
       "38758                                   The Bridge Part 2\n",
       "38762                 Flower Shop Mystery: Mum's the Word\n",
       "38880      The Land Before Time XIV: Journey of the Brave\n",
       "39345                      Les Tuche 2: Le rêve américain\n",
       "39964                               A Conspiracy of Faith\n",
       "40062                                 Spirits' Homecoming\n",
       "40182                     Kizumonogatari Part 1: Tekketsu\n",
       "40672                                 Maigret Sets a Trap\n",
       "40801           Signed, Sealed, Delivered: From the Heart\n",
       "40849          Murder, She Baked: A Peach Cobbler Mystery\n",
       "45343                          The Visitors: Bastille Day\n",
       "Name: title, dtype: object"
      ]
     },
     "execution_count": 16,
     "metadata": {},
     "output_type": "execute_result"
    }
   ],
   "source": []
  },
  {
   "cell_type": "markdown",
   "id": "cbbc0463",
   "metadata": {},
   "source": [
    "# 3. 영화 제목이 \"toy\"로 시작하는 영화 개수를 찾아주세요"
   ]
  },
  {
   "cell_type": "code",
   "execution_count": 23,
   "id": "abfb26f8",
   "metadata": {},
   "outputs": [
    {
     "name": "stdout",
     "output_type": "stream",
     "text": [
      "'toy'로 시작하는 영화 개수: 12\n"
     ]
    }
   ],
   "source": []
  },
  {
   "cell_type": "markdown",
   "id": "607a315d",
   "metadata": {},
   "source": [
    "# 4. 한국어 영화 중 평점 8.0이상인 영화를 찾아주세요"
   ]
  },
  {
   "cell_type": "code",
   "execution_count": 25,
   "id": "c058c056",
   "metadata": {
    "scrolled": true
   },
   "outputs": [
    {
     "data": {
      "text/html": [
       "<div>\n",
       "<style scoped>\n",
       "    .dataframe tbody tr th:only-of-type {\n",
       "        vertical-align: middle;\n",
       "    }\n",
       "\n",
       "    .dataframe tbody tr th {\n",
       "        vertical-align: top;\n",
       "    }\n",
       "\n",
       "    .dataframe thead th {\n",
       "        text-align: right;\n",
       "    }\n",
       "</style>\n",
       "<table border=\"1\" class=\"dataframe\">\n",
       "  <thead>\n",
       "    <tr style=\"text-align: right;\">\n",
       "      <th></th>\n",
       "      <th>title</th>\n",
       "      <th>vote_average</th>\n",
       "    </tr>\n",
       "  </thead>\n",
       "  <tbody>\n",
       "    <tr>\n",
       "      <th>9430</th>\n",
       "      <td>Oldboy</td>\n",
       "      <td>8.0</td>\n",
       "    </tr>\n",
       "    <tr>\n",
       "      <th>15549</th>\n",
       "      <td>The Power of Kangwon Province</td>\n",
       "      <td>8.2</td>\n",
       "    </tr>\n",
       "    <tr>\n",
       "      <th>16632</th>\n",
       "      <td>Tale of Cinema</td>\n",
       "      <td>8.4</td>\n",
       "    </tr>\n",
       "    <tr>\n",
       "      <th>16694</th>\n",
       "      <td>Castaway on the Moon</td>\n",
       "      <td>8.1</td>\n",
       "    </tr>\n",
       "    <tr>\n",
       "      <th>20305</th>\n",
       "      <td>Sunny</td>\n",
       "      <td>8.0</td>\n",
       "    </tr>\n",
       "    <tr>\n",
       "      <th>21739</th>\n",
       "      <td>Miracle in Cell No. 7</td>\n",
       "      <td>8.0</td>\n",
       "    </tr>\n",
       "    <tr>\n",
       "      <th>32934</th>\n",
       "      <td>Silenced</td>\n",
       "      <td>8.0</td>\n",
       "    </tr>\n",
       "    <tr>\n",
       "      <th>32946</th>\n",
       "      <td>The Beauty Inside</td>\n",
       "      <td>8.1</td>\n",
       "    </tr>\n",
       "    <tr>\n",
       "      <th>38249</th>\n",
       "      <td>Motel Cactus</td>\n",
       "      <td>8.0</td>\n",
       "    </tr>\n",
       "    <tr>\n",
       "      <th>38420</th>\n",
       "      <td>SORI: Voice from the Heart</td>\n",
       "      <td>8.0</td>\n",
       "    </tr>\n",
       "    <tr>\n",
       "      <th>38718</th>\n",
       "      <td>The Handmaiden</td>\n",
       "      <td>8.1</td>\n",
       "    </tr>\n",
       "    <tr>\n",
       "      <th>40035</th>\n",
       "      <td>Remember You</td>\n",
       "      <td>8.5</td>\n",
       "    </tr>\n",
       "    <tr>\n",
       "      <th>40062</th>\n",
       "      <td>Spirits' Homecoming</td>\n",
       "      <td>8.5</td>\n",
       "    </tr>\n",
       "    <tr>\n",
       "      <th>41113</th>\n",
       "      <td>The Surrogate Womb</td>\n",
       "      <td>8.3</td>\n",
       "    </tr>\n",
       "    <tr>\n",
       "      <th>41230</th>\n",
       "      <td>Under the Sun</td>\n",
       "      <td>8.1</td>\n",
       "    </tr>\n",
       "    <tr>\n",
       "      <th>41907</th>\n",
       "      <td>Top Star</td>\n",
       "      <td>8.0</td>\n",
       "    </tr>\n",
       "    <tr>\n",
       "      <th>42393</th>\n",
       "      <td>Hope</td>\n",
       "      <td>8.1</td>\n",
       "    </tr>\n",
       "    <tr>\n",
       "      <th>43505</th>\n",
       "      <td>My Annoying Brother</td>\n",
       "      <td>8.4</td>\n",
       "    </tr>\n",
       "  </tbody>\n",
       "</table>\n",
       "</div>"
      ],
      "text/plain": [
       "                               title  vote_average\n",
       "9430                          Oldboy           8.0\n",
       "15549  The Power of Kangwon Province           8.2\n",
       "16632                 Tale of Cinema           8.4\n",
       "16694           Castaway on the Moon           8.1\n",
       "20305                          Sunny           8.0\n",
       "21739          Miracle in Cell No. 7           8.0\n",
       "32934                       Silenced           8.0\n",
       "32946              The Beauty Inside           8.1\n",
       "38249                   Motel Cactus           8.0\n",
       "38420     SORI: Voice from the Heart           8.0\n",
       "38718                 The Handmaiden           8.1\n",
       "40035                   Remember You           8.5\n",
       "40062            Spirits' Homecoming           8.5\n",
       "41113             The Surrogate Womb           8.3\n",
       "41230                  Under the Sun           8.1\n",
       "41907                       Top Star           8.0\n",
       "42393                           Hope           8.1\n",
       "43505            My Annoying Brother           8.4"
      ]
     },
     "execution_count": 25,
     "metadata": {},
     "output_type": "execute_result"
    }
   ],
   "source": []
  },
  {
   "cell_type": "markdown",
   "id": "4902e23a",
   "metadata": {},
   "source": [
    "# 5. 한국어 영화의 수익 평균을 찾아주세요"
   ]
  },
  {
   "cell_type": "code",
   "execution_count": 27,
   "id": "27f23427",
   "metadata": {},
   "outputs": [
    {
     "name": "stdout",
     "output_type": "stream",
     "text": [
      "수익 평균 : $ 2181629.0\n"
     ]
    }
   ],
   "source": []
  }
 ],
 "metadata": {
  "kernelspec": {
   "display_name": "Python 3 (ipykernel)",
   "language": "python",
   "name": "python3"
  },
  "language_info": {
   "codemirror_mode": {
    "name": "ipython",
    "version": 3
   },
   "file_extension": ".py",
   "mimetype": "text/x-python",
   "name": "python",
   "nbconvert_exporter": "python",
   "pygments_lexer": "ipython3",
   "version": "3.10.9"
  }
 },
 "nbformat": 4,
 "nbformat_minor": 5
}
